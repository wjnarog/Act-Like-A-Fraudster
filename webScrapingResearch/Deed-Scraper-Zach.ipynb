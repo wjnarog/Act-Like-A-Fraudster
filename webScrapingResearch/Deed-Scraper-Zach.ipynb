{
 "cells": [
  {
   "cell_type": "code",
   "execution_count": 3,
   "id": "47386b40-8740-4c00-bf31-f7f5eee7827c",
   "metadata": {},
   "outputs": [],
   "source": [
    "#Uncomment and install on first run through\n",
    "#pip install selenium"
   ]
  },
  {
   "cell_type": "code",
   "execution_count": 11,
   "id": "09c76630-dafa-4544-ae72-9ffaf722802d",
   "metadata": {},
   "outputs": [
    {
     "name": "stdin",
     "output_type": "stream",
     "text": [
      "Enter Address to search 2311 Spruce Street\n"
     ]
    }
   ],
   "source": [
    "from selenium import webdriver\n",
    "from selenium.webdriver.common.by import By\n",
    "from bs4 import BeautifulSoup\n",
    "\n",
    "driver = webdriver.Firefox()\n",
    "driver.get(\"https://www.countyoffice.org/\")\n",
    "\n",
    "address = input(\"Enter Address to search\")\n",
    "\n",
    "addressSearch = driver.find_element(By.XPATH, \"/html/body/div[2]/div/div[1]/div/div/div/div/div/div[2]/div[1]/input\")\n",
    "addressSearch.send_keys(address)\n",
    "\n",
    "submit_button = driver.find_element(By.XPATH, \"//*[@id='ps-submit']\")\n",
    "#AddressSearch.send_keys('3135 Moorhead Ave')"
   ]
  },
  {
   "cell_type": "code",
   "execution_count": 23,
   "id": "d1307451-59e9-4133-835f-f82f2de702d7",
   "metadata": {},
   "outputs": [],
   "source": [
    "deedTable = driver.find_element(By.XPATH, \"/html/body/div[2]/div/div[1]/section[2]/section[1]/table\")\n",
    "allRows = deedTable.find_elements(By.TAG_NAME, 'tr')"
   ]
  },
  {
   "cell_type": "code",
   "execution_count": 29,
   "id": "a2ccb734-bd78-406d-9331-f001ca4eaeb0",
   "metadata": {},
   "outputs": [
    {
     "name": "stdout",
     "output_type": "stream",
     "text": [
      "Deed Names W******** C* L** 🔒\n",
      "Known Transactions\n",
      "30-Sep-2010\n",
      "Deed Transaction Id 296735857\n",
      "Deed Doc Number 0003102460\n",
      "Last Transfer Date Thu 28th October 2010\n",
      "Transfer Doc 0003109427\n",
      "Transfer Transaction 298767718\n"
     ]
    }
   ],
   "source": [
    "for i in allRows:\n",
    "    print(i.text)"
   ]
  },
  {
   "cell_type": "markdown",
   "id": "b82a18b4-0846-4410-80ee-5a459cb4ad45",
   "metadata": {},
   "source": [
    "## From Here, I will just load up different counties in Colorado, and have it automate to filling in where the record number should be"
   ]
  },
  {
   "cell_type": "markdown",
   "id": "b5100b4d-9392-419f-8734-b780c31710f8",
   "metadata": {},
   "source": [
    "#### So far I have been able to get Douglas County, Boulder County, and Adams County to work"
   ]
  },
  {
   "cell_type": "code",
   "execution_count": null,
   "id": "df6bbd7d-3a5f-44bc-b495-7683bf518415",
   "metadata": {},
   "outputs": [],
   "source": []
  }
 ],
 "metadata": {
  "kernelspec": {
   "display_name": "Python 3 (ipykernel)",
   "language": "python",
   "name": "python3"
  },
  "language_info": {
   "codemirror_mode": {
    "name": "ipython",
    "version": 3
   },
   "file_extension": ".py",
   "mimetype": "text/x-python",
   "name": "python",
   "nbconvert_exporter": "python",
   "pygments_lexer": "ipython3",
   "version": "3.12.7"
  }
 },
 "nbformat": 4,
 "nbformat_minor": 5
}
