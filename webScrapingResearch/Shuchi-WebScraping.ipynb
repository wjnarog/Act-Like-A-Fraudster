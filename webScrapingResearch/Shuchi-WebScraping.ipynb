{
 "cells": [
  {
   "cell_type": "code",
   "execution_count": 70,
   "metadata": {},
   "outputs": [
    {
     "name": "stdout",
     "output_type": "stream",
     "text": [
      "Requirement already satisfied: selenium in /home/shuchi/.venvs/myenv/lib/python3.12/site-packages (4.27.1)\n",
      "Requirement already satisfied: urllib3<3,>=1.26 in /home/shuchi/.venvs/myenv/lib/python3.12/site-packages (from urllib3[socks]<3,>=1.26->selenium) (2.3.0)\n",
      "Requirement already satisfied: trio~=0.17 in /home/shuchi/.venvs/myenv/lib/python3.12/site-packages (from selenium) (0.28.0)\n",
      "Requirement already satisfied: trio-websocket~=0.9 in /home/shuchi/.venvs/myenv/lib/python3.12/site-packages (from selenium) (0.11.1)\n",
      "Requirement already satisfied: certifi>=2021.10.8 in /home/shuchi/.venvs/myenv/lib/python3.12/site-packages (from selenium) (2024.12.14)\n",
      "Requirement already satisfied: typing_extensions~=4.9 in /home/shuchi/.venvs/myenv/lib/python3.12/site-packages (from selenium) (4.12.2)\n",
      "Requirement already satisfied: websocket-client~=1.8 in /home/shuchi/.venvs/myenv/lib/python3.12/site-packages (from selenium) (1.8.0)\n",
      "Requirement already satisfied: attrs>=23.2.0 in /home/shuchi/.venvs/myenv/lib/python3.12/site-packages (from trio~=0.17->selenium) (24.3.0)\n",
      "Requirement already satisfied: sortedcontainers in /home/shuchi/.venvs/myenv/lib/python3.12/site-packages (from trio~=0.17->selenium) (2.4.0)\n",
      "Requirement already satisfied: idna in /home/shuchi/.venvs/myenv/lib/python3.12/site-packages (from trio~=0.17->selenium) (3.10)\n",
      "Requirement already satisfied: outcome in /home/shuchi/.venvs/myenv/lib/python3.12/site-packages (from trio~=0.17->selenium) (1.3.0.post0)\n",
      "Requirement already satisfied: sniffio>=1.3.0 in /home/shuchi/.venvs/myenv/lib/python3.12/site-packages (from trio~=0.17->selenium) (1.3.1)\n",
      "Requirement already satisfied: wsproto>=0.14 in /home/shuchi/.venvs/myenv/lib/python3.12/site-packages (from trio-websocket~=0.9->selenium) (1.2.0)\n",
      "Requirement already satisfied: pysocks!=1.5.7,<2.0,>=1.5.6 in /home/shuchi/.venvs/myenv/lib/python3.12/site-packages (from urllib3[socks]<3,>=1.26->selenium) (1.7.1)\n",
      "Requirement already satisfied: h11<1,>=0.9.0 in /home/shuchi/.venvs/myenv/lib/python3.12/site-packages (from wsproto>=0.14->trio-websocket~=0.9->selenium) (0.14.0)\n",
      "Note: you may need to restart the kernel to use updated packages.\n"
     ]
    }
   ],
   "source": [
    "pip install selenium"
   ]
  },
  {
   "cell_type": "code",
   "execution_count": 71,
   "metadata": {},
   "outputs": [
    {
     "name": "stdout",
     "output_type": "stream",
     "text": [
      "Requirement already satisfied: beautifulsoup4 in /home/shuchi/.venvs/myenv/lib/python3.12/site-packages (4.12.3)\n",
      "Requirement already satisfied: soupsieve>1.2 in /home/shuchi/.venvs/myenv/lib/python3.12/site-packages (from beautifulsoup4) (2.6)\n",
      "Note: you may need to restart the kernel to use updated packages.\n"
     ]
    }
   ],
   "source": [
    "pip install beautifulsoup4"
   ]
  },
  {
   "cell_type": "code",
   "execution_count": 72,
   "metadata": {},
   "outputs": [
    {
     "name": "stdout",
     "output_type": "stream",
     "text": [
      "Requirement already satisfied: tabulate in /home/shuchi/.venvs/myenv/lib/python3.12/site-packages (0.9.0)\n",
      "Note: you may need to restart the kernel to use updated packages.\n"
     ]
    }
   ],
   "source": [
    "pip install tabulate"
   ]
  },
  {
   "cell_type": "code",
   "execution_count": 73,
   "metadata": {},
   "outputs": [],
   "source": [
    "from selenium import webdriver\n",
    "from selenium.webdriver.common.by import By\n",
    "from selenium.webdriver.common.keys import Keys\n",
    "from selenium.webdriver.support.ui import WebDriverWait\n",
    "from selenium.webdriver.support import expected_conditions as EC\n",
    "from bs4 import BeautifulSoup\n",
    "\n",
    "\n",
    "driver = webdriver.Chrome()\n",
    "driver.get(\"https://boulder.co.publicsearch.us/\")\n",
    "#print(driver.page_source)\n",
    "\n",
    "search_box = driver.find_element(By.CSS_SELECTOR, '[data-testid=\"searchInputBox\"]')\n",
    "\n",
    "# AT THE MOMENT, I'M USING MY DAD'S NAME\n",
    "search_box.send_keys(\"Sanjay Shah\")\n",
    "search_box.send_keys(Keys.RETURN)\n",
    "\n",
    "# wait for the page to load after submitting the search\n",
    "# driver.implicitly_wait(5)\n",
    "\n",
    "# Wait for the page to load after submitting the search (adjust wait time if necessary)\n",
    "WebDriverWait(driver, 5).until(\n",
    "    EC.presence_of_element_located((By.TAG_NAME, 'tfoot'))  # Wait for the <tfoot> tag to appear\n",
    ")\n",
    "\n",
    "soup2 = BeautifulSoup(driver.page_source, \"html.parser\")\n",
    "# print(soup2.prettify())\n",
    "# driver.quit()"
   ]
  },
  {
   "cell_type": "markdown",
   "metadata": {},
   "source": [
    "## various output formatting styles"
   ]
  },
  {
   "cell_type": "markdown",
   "metadata": {},
   "source": [
    "### list view"
   ]
  },
  {
   "cell_type": "code",
   "execution_count": 74,
   "metadata": {},
   "outputs": [
    {
     "name": "stdout",
     "output_type": "stream",
     "text": [
      "Headers:\n",
      "• \n",
      "• \n",
      "• \n",
      "• Reception Number\n",
      "• Book\n",
      "• Page\n",
      "• Doc Type\n",
      "• Grantor\n",
      "• Grantee\n",
      "• Recorded Date\n",
      "• Legal Description\n",
      "• References\n"
     ]
    }
   ],
   "source": [
    "# Find the table header row <tr> inside the <tfoot>\n",
    "header_row = soup2.find('tfoot').find('tr')\n",
    "    \n",
    "# Extract all the <th> elements (headers) from the row\n",
    "headers = header_row.find_all('th')\n",
    "\n",
    "# Print the table headers\n",
    "print(\"Headers:\")\n",
    "for header in headers:\n",
    "    print(f\"• {header.get_text(strip=True)}\")"
   ]
  },
  {
   "cell_type": "markdown",
   "metadata": {},
   "source": [
    "### Rows of data"
   ]
  },
  {
   "cell_type": "code",
   "execution_count": 75,
   "metadata": {},
   "outputs": [
    {
     "name": "stdout",
     "output_type": "stream",
     "text": [
      "Rows:\n",
      "['', '', '', '02469067', 'N/A', 'N/A', 'DEED OF TRUST', 'SHAHBHAVI', 'WELLS FARGO HOME MORTGAGE', '7/11/2003', 'L 14 B 7 DODD ESTATES #1', '02978162']\n",
      "['', '', '', '02343160', 'N/A', 'N/A', 'DEED OF TRUST', 'SHAHBAHVI', 'JOHN LAING MORTGAGE', '10/14/2002', 'L 14 B 7 DODD ESTATES #1', '02343161']\n",
      "['', '', '', '02975443', 'N/A', 'N/A', 'DEED OF TRUST', 'SHAHBHAVI', 'ELEVATIONS CREDIT UNION', '1/27/2009', 'Subdivision-  Name: DODD ESTATES 1ST Lot: 14 Block: 7', '03152791']\n",
      "['', '', '', '03151268', 'N/A', 'N/A', 'DEED OF TRUST', 'SHAHBHAVI', 'INTERBANK MORTGAGE COMPANY', '5/31/2011', 'Subdivision-  Name: DODD ESTATES 1ST Lot: 14 Block: 7', '03216351']\n",
      "['', '', '', '03244160', 'N/A', 'N/A', 'DEED OF TRUST', 'SHAHBHAVI', 'PROVIDENT FUNDING ASSOCIATES LP', '8/13/2012', 'Subdivision-  Name: DODD ESTATES 1ST Lot: 14 Block: 7', '03756314']\n",
      "['', '', '', '03201248', 'N/A', 'N/A', 'DEED OF TRUST', 'SHAHBHAVI', 'MORTGAGE ELECTRONIC REGISTRATION SYSTEMS INC NOMINEE', '2/7/2012', 'Subdivision-  Name: DODD ESTATES 1ST Lot: 14 Block: 7', '03299667']\n",
      "['', '', '', '02978162', 'N/A', 'N/A', 'RELEASE OF DEED OF TRUST', 'WELLS FARGO BANK NA', 'SHAHBHAVI', '2/10/2009', 'N/A', '02469067']\n",
      "['', '', '', '02517090', 'N/A', 'N/A', 'RELEASE OF DEED OF TRUST', 'WELLS FARGO HOME MORTGAGE', 'SHAHBHAVI', '10/20/2003', 'N/A', '02343160']\n",
      "['', '', '', '02343158', 'N/A', 'N/A', 'WARRANTY DEED JOINT TENANCY', 'WATT HOMES-COLORADO DIVISION', 'SHAHBHAVI', '10/14/2002', 'L 14 B 7 DODD ESTATES #1', 'N/A']\n",
      "['', '', '', '03152791', 'N/A', 'N/A', 'RELEASE OF DEED OF TRUST', 'ELEVATIONS CREDIT UNION', 'SHAHBHAVI', '6/8/2011', 'N/A', '02975443']\n",
      "['', '', '', '03216351', 'N/A', 'N/A', 'RELEASE OF DEED OF TRUST', 'CITIMORTGAGE INC', 'SHAHBHAVI', '4/13/2012', 'N/A', '03151268']\n",
      "['', '', '', '03756314', 'N/A', 'N/A', 'RELEASE OF DEED OF TRUST', 'FIRST AMERICAN TITLE INSURANCE COMPANY', 'SHAHBHAVI', '12/20/2019', 'N/A', '03244160']\n",
      "['', '', '', '03299667', 'N/A', 'N/A', 'RELEASE OF DEED OF TRUST', 'INTERBANK MORTGAGE COMPANY', 'SHAHBHAVI', '3/26/2013', 'N/A', '03201248']\n",
      "['', '', '', '03873662', 'N/A', 'N/A', 'QUIT CLAIM DEED', 'SHAHFAMILY TRUST', 'SHAHSANJAYB', '4/1/2021', 'Subdivision-  Name: PELOTON CONDOMINIUMS Unit: 201', 'N/A']\n",
      "['', '', '', '03873663', 'N/A', 'N/A', 'DEED OF TRUST', 'SHAHSANJAYB', 'QUICKEN LOANS LLC', '4/1/2021', 'Subdivision-  Name: PELOTON CONDOMINIUMS Unit: 201', 'N/A']\n",
      "['', '', '', '03873664', 'N/A', 'N/A', 'QUIT CLAIM DEED', 'SHAHSANJAYB', 'SHAHFAMILY TRUST', '4/1/2021', 'Subdivision-  Name: PELOTON CONDOMINIUMS Unit: 201', 'N/A']\n",
      "['', '', '', '03691567', 'N/A', 'N/A', 'POWER OF ATTORNEY', 'SHAHMOUSAMI S', 'SHAHSANJAYB', '12/26/2018', 'Subdivision-  Name: PELOTON CONDOMINIUMS Unit: 201', 'N/A']\n",
      "['', '', '', '03743577', 'N/A', 'N/A', 'WARRANTY DEED', 'SHAHMOUSAMI S', 'SHAHFAMILY TRUST', '10/18/2019', 'Subdivision-  Name: PELOTON CONDOMINIUMS Unit: 201', 'N/A']\n",
      "['', '', '', '03691569', 'N/A', 'N/A', 'DEED OF TRUST', 'SHAHMOUSAMI S', 'BANK OF AMERICA NA', '12/26/2018', 'Subdivision-  Name: PELOTON CONDOMINIUMS Unit: 201', '03876075']\n",
      "['', '', '', '03691568', 'N/A', 'N/A', 'WARRANTY DEED JOINT TENANCY', 'CITYVIEW PELOTON 390 LP', 'SHAHMOUSAMI S', '12/26/2018', 'Subdivision-  Name: PELOTON CONDOMINIUMS Unit: 201', 'N/A']\n",
      "['', '', '', '03876075', 'N/A', 'N/A', 'RELEASE OF DEED OF TRUST', 'BANK OF AMERICA NA', 'SHAHMOUSAMI S', '4/12/2021', 'N/A', '03691569']\n",
      "['', '', '', '02343159', 'N/A', 'N/A', 'COVENANT', 'SHAHBAHVI', 'SHAHBAHVI', '10/14/2002', 'N/A', 'N/A']\n",
      "['', '', '', '03743576', 'N/A', 'N/A', 'STATEMENT', 'SHAHFAMILY TRUST', 'SHAHFAMILY TRUST', '10/18/2019', 'N/A', 'N/A']\n"
     ]
    }
   ],
   "source": [
    "# Find all the table rows <tr> inside the <tbody> (this should be where the rows are located)\n",
    "rows = soup2.find_all('tr', class_='')\n",
    "\n",
    "# Print all the rows under the table headers\n",
    "print(\"Rows:\")\n",
    "for row in rows:\n",
    "    cols = row.find_all('td')  # Extract all <td> elements (columns)\n",
    "    \n",
    "    if len(cols) > 1:  # Ensure it's a valid row with data (ignores empty rows)\n",
    "        row_data = [col.get_text(strip=True) for col in cols]  # Extract and clean up the text\n",
    "        print(row_data)\n",
    "\n",
    "# Close the driver\n",
    "driver.quit()"
   ]
  },
  {
   "cell_type": "markdown",
   "metadata": {},
   "source": [
    "### table layout using tabulate"
   ]
  },
  {
   "cell_type": "code",
   "execution_count": 76,
   "metadata": {},
   "outputs": [
    {
     "name": "stdout",
     "output_type": "stream",
     "text": [
      "Filtered Table Data:\n",
      "╒════════════════════╤═════════════════════════════╤════════════════════════════════════════╤══════════════════════════════════════════════════════╤═════════════════╤═══════════════════════════════════════════════════════╤══════════════╕\n",
      "│   Reception Number │ Doc Type                    │ Grantor                                │ Grantee                                              │ Recorded Date   │ Legal Description                                     │ References   │\n",
      "╞════════════════════╪═════════════════════════════╪════════════════════════════════════════╪══════════════════════════════════════════════════════╪═════════════════╪═══════════════════════════════════════════════════════╪══════════════╡\n",
      "│           02469067 │ DEED OF TRUST               │ SHAHBHAVI                              │ WELLS FARGO HOME MORTGAGE                            │ 7/11/2003       │ L 14 B 7 DODD ESTATES #1                              │ 02978162     │\n",
      "├────────────────────┼─────────────────────────────┼────────────────────────────────────────┼──────────────────────────────────────────────────────┼─────────────────┼───────────────────────────────────────────────────────┼──────────────┤\n",
      "│           02343160 │ DEED OF TRUST               │ SHAHBAHVI                              │ JOHN LAING MORTGAGE                                  │ 10/14/2002      │ L 14 B 7 DODD ESTATES #1                              │ 02343161     │\n",
      "├────────────────────┼─────────────────────────────┼────────────────────────────────────────┼──────────────────────────────────────────────────────┼─────────────────┼───────────────────────────────────────────────────────┼──────────────┤\n",
      "│           02975443 │ DEED OF TRUST               │ SHAHBHAVI                              │ ELEVATIONS CREDIT UNION                              │ 1/27/2009       │ Subdivision-  Name: DODD ESTATES 1ST Lot: 14 Block: 7 │ 03152791     │\n",
      "├────────────────────┼─────────────────────────────┼────────────────────────────────────────┼──────────────────────────────────────────────────────┼─────────────────┼───────────────────────────────────────────────────────┼──────────────┤\n",
      "│           03151268 │ DEED OF TRUST               │ SHAHBHAVI                              │ INTERBANK MORTGAGE COMPANY                           │ 5/31/2011       │ Subdivision-  Name: DODD ESTATES 1ST Lot: 14 Block: 7 │ 03216351     │\n",
      "├────────────────────┼─────────────────────────────┼────────────────────────────────────────┼──────────────────────────────────────────────────────┼─────────────────┼───────────────────────────────────────────────────────┼──────────────┤\n",
      "│           03244160 │ DEED OF TRUST               │ SHAHBHAVI                              │ PROVIDENT FUNDING ASSOCIATES LP                      │ 8/13/2012       │ Subdivision-  Name: DODD ESTATES 1ST Lot: 14 Block: 7 │ 03756314     │\n",
      "├────────────────────┼─────────────────────────────┼────────────────────────────────────────┼──────────────────────────────────────────────────────┼─────────────────┼───────────────────────────────────────────────────────┼──────────────┤\n",
      "│           03201248 │ DEED OF TRUST               │ SHAHBHAVI                              │ MORTGAGE ELECTRONIC REGISTRATION SYSTEMS INC NOMINEE │ 2/7/2012        │ Subdivision-  Name: DODD ESTATES 1ST Lot: 14 Block: 7 │ 03299667     │\n",
      "├────────────────────┼─────────────────────────────┼────────────────────────────────────────┼──────────────────────────────────────────────────────┼─────────────────┼───────────────────────────────────────────────────────┼──────────────┤\n",
      "│           02978162 │ RELEASE OF DEED OF TRUST    │ WELLS FARGO BANK NA                    │ SHAHBHAVI                                            │ 2/10/2009       │ N/A                                                   │ 02469067     │\n",
      "├────────────────────┼─────────────────────────────┼────────────────────────────────────────┼──────────────────────────────────────────────────────┼─────────────────┼───────────────────────────────────────────────────────┼──────────────┤\n",
      "│           02517090 │ RELEASE OF DEED OF TRUST    │ WELLS FARGO HOME MORTGAGE              │ SHAHBHAVI                                            │ 10/20/2003      │ N/A                                                   │ 02343160     │\n",
      "├────────────────────┼─────────────────────────────┼────────────────────────────────────────┼──────────────────────────────────────────────────────┼─────────────────┼───────────────────────────────────────────────────────┼──────────────┤\n",
      "│           02343158 │ WARRANTY DEED JOINT TENANCY │ WATT HOMES-COLORADO DIVISION           │ SHAHBHAVI                                            │ 10/14/2002      │ L 14 B 7 DODD ESTATES #1                              │ N/A          │\n",
      "├────────────────────┼─────────────────────────────┼────────────────────────────────────────┼──────────────────────────────────────────────────────┼─────────────────┼───────────────────────────────────────────────────────┼──────────────┤\n",
      "│           03152791 │ RELEASE OF DEED OF TRUST    │ ELEVATIONS CREDIT UNION                │ SHAHBHAVI                                            │ 6/8/2011        │ N/A                                                   │ 02975443     │\n",
      "├────────────────────┼─────────────────────────────┼────────────────────────────────────────┼──────────────────────────────────────────────────────┼─────────────────┼───────────────────────────────────────────────────────┼──────────────┤\n",
      "│           03216351 │ RELEASE OF DEED OF TRUST    │ CITIMORTGAGE INC                       │ SHAHBHAVI                                            │ 4/13/2012       │ N/A                                                   │ 03151268     │\n",
      "├────────────────────┼─────────────────────────────┼────────────────────────────────────────┼──────────────────────────────────────────────────────┼─────────────────┼───────────────────────────────────────────────────────┼──────────────┤\n",
      "│           03756314 │ RELEASE OF DEED OF TRUST    │ FIRST AMERICAN TITLE INSURANCE COMPANY │ SHAHBHAVI                                            │ 12/20/2019      │ N/A                                                   │ 03244160     │\n",
      "├────────────────────┼─────────────────────────────┼────────────────────────────────────────┼──────────────────────────────────────────────────────┼─────────────────┼───────────────────────────────────────────────────────┼──────────────┤\n",
      "│           03299667 │ RELEASE OF DEED OF TRUST    │ INTERBANK MORTGAGE COMPANY             │ SHAHBHAVI                                            │ 3/26/2013       │ N/A                                                   │ 03201248     │\n",
      "├────────────────────┼─────────────────────────────┼────────────────────────────────────────┼──────────────────────────────────────────────────────┼─────────────────┼───────────────────────────────────────────────────────┼──────────────┤\n",
      "│           03873662 │ QUIT CLAIM DEED             │ SHAHFAMILY TRUST                       │ SHAHSANJAYB                                          │ 4/1/2021        │ Subdivision-  Name: PELOTON CONDOMINIUMS Unit: 201    │ N/A          │\n",
      "├────────────────────┼─────────────────────────────┼────────────────────────────────────────┼──────────────────────────────────────────────────────┼─────────────────┼───────────────────────────────────────────────────────┼──────────────┤\n",
      "│           03873663 │ DEED OF TRUST               │ SHAHSANJAYB                            │ QUICKEN LOANS LLC                                    │ 4/1/2021        │ Subdivision-  Name: PELOTON CONDOMINIUMS Unit: 201    │ N/A          │\n",
      "├────────────────────┼─────────────────────────────┼────────────────────────────────────────┼──────────────────────────────────────────────────────┼─────────────────┼───────────────────────────────────────────────────────┼──────────────┤\n",
      "│           03873664 │ QUIT CLAIM DEED             │ SHAHSANJAYB                            │ SHAHFAMILY TRUST                                     │ 4/1/2021        │ Subdivision-  Name: PELOTON CONDOMINIUMS Unit: 201    │ N/A          │\n",
      "├────────────────────┼─────────────────────────────┼────────────────────────────────────────┼──────────────────────────────────────────────────────┼─────────────────┼───────────────────────────────────────────────────────┼──────────────┤\n",
      "│           03691567 │ POWER OF ATTORNEY           │ SHAHMOUSAMI S                          │ SHAHSANJAYB                                          │ 12/26/2018      │ Subdivision-  Name: PELOTON CONDOMINIUMS Unit: 201    │ N/A          │\n",
      "├────────────────────┼─────────────────────────────┼────────────────────────────────────────┼──────────────────────────────────────────────────────┼─────────────────┼───────────────────────────────────────────────────────┼──────────────┤\n",
      "│           03743577 │ WARRANTY DEED               │ SHAHMOUSAMI S                          │ SHAHFAMILY TRUST                                     │ 10/18/2019      │ Subdivision-  Name: PELOTON CONDOMINIUMS Unit: 201    │ N/A          │\n",
      "├────────────────────┼─────────────────────────────┼────────────────────────────────────────┼──────────────────────────────────────────────────────┼─────────────────┼───────────────────────────────────────────────────────┼──────────────┤\n",
      "│           03691569 │ DEED OF TRUST               │ SHAHMOUSAMI S                          │ BANK OF AMERICA NA                                   │ 12/26/2018      │ Subdivision-  Name: PELOTON CONDOMINIUMS Unit: 201    │ 03876075     │\n",
      "├────────────────────┼─────────────────────────────┼────────────────────────────────────────┼──────────────────────────────────────────────────────┼─────────────────┼───────────────────────────────────────────────────────┼──────────────┤\n",
      "│           03691568 │ WARRANTY DEED JOINT TENANCY │ CITYVIEW PELOTON 390 LP                │ SHAHMOUSAMI S                                        │ 12/26/2018      │ Subdivision-  Name: PELOTON CONDOMINIUMS Unit: 201    │ N/A          │\n",
      "├────────────────────┼─────────────────────────────┼────────────────────────────────────────┼──────────────────────────────────────────────────────┼─────────────────┼───────────────────────────────────────────────────────┼──────────────┤\n",
      "│           03876075 │ RELEASE OF DEED OF TRUST    │ BANK OF AMERICA NA                     │ SHAHMOUSAMI S                                        │ 4/12/2021       │ N/A                                                   │ 03691569     │\n",
      "├────────────────────┼─────────────────────────────┼────────────────────────────────────────┼──────────────────────────────────────────────────────┼─────────────────┼───────────────────────────────────────────────────────┼──────────────┤\n",
      "│           02343159 │ COVENANT                    │ SHAHBAHVI                              │ SHAHBAHVI                                            │ 10/14/2002      │ N/A                                                   │ N/A          │\n",
      "├────────────────────┼─────────────────────────────┼────────────────────────────────────────┼──────────────────────────────────────────────────────┼─────────────────┼───────────────────────────────────────────────────────┼──────────────┤\n",
      "│           03743576 │ STATEMENT                   │ SHAHFAMILY TRUST                       │ SHAHFAMILY TRUST                                     │ 10/18/2019      │ N/A                                                   │ N/A          │\n",
      "╘════════════════════╧═════════════════════════════╧════════════════════════════════════════╧══════════════════════════════════════════════════════╧═════════════════╧═══════════════════════════════════════════════════════╧══════════════╛\n"
     ]
    }
   ],
   "source": [
    "from tabulate import tabulate\n",
    "\n",
    "# Find the table header row <tr> inside the <tfoot>\n",
    "header_row = soup2.find('tfoot').find('tr')\n",
    "\n",
    "# Extract all the <th> elements (headers) from the row\n",
    "headers = header_row.find_all('th')\n",
    "\n",
    "# Create a list of headers\n",
    "header_titles = [header.get_text(strip=True) for header in headers]\n",
    "\n",
    "# Define the specific columns you want to keep (based on the headers you provided)\n",
    "columns_to_keep = [\"Reception Number\", \"Doc Type\", \"Grantor\", \"Grantee\", \"Recorded Date\", \"Legal Description\", \"References\"]\n",
    "\n",
    "# Find all the table rows <tr> inside the <tbody>\n",
    "rows = soup2.find_all('tr', class_='')\n",
    "\n",
    "# Prepare the rows to match the number of columns and clean up the data\n",
    "table_rows = []\n",
    "for row in rows:\n",
    "    cols = row.find_all('td')  # Extract all <td> elements (columns)\n",
    "    \n",
    "    if len(cols) > 1:  # Ensure it's a valid row with data (ignores empty rows)\n",
    "        row_data = [col.get_text(strip=True) for col in cols]\n",
    "        \n",
    "        # Create a filtered row with only the specified columns\n",
    "        filtered_row = []\n",
    "        for col_name in columns_to_keep:\n",
    "            if col_name in header_titles:\n",
    "                col_index = header_titles.index(col_name)\n",
    "                filtered_row.append(row_data[col_index])\n",
    "        \n",
    "        if filtered_row:  # Add only non-empty rows\n",
    "            table_rows.append(filtered_row)\n",
    "\n",
    "# Print the table in a clean format using tabulate\n",
    "# print(\"Table Data:\")\n",
    "# print(tabulate(table_rows, headers=header_titles, tablefmt=\"fancy_grid\"))\n",
    "print(\"Filtered Table Data:\")\n",
    "print(tabulate(table_rows, headers=columns_to_keep, tablefmt=\"fancy_grid\"))\n",
    "\n",
    "driver.quit()"
   ]
  }
 ],
 "metadata": {
  "kernelspec": {
   "display_name": "myenv",
   "language": "python",
   "name": "python3"
  },
  "language_info": {
   "codemirror_mode": {
    "name": "ipython",
    "version": 3
   },
   "file_extension": ".py",
   "mimetype": "text/x-python",
   "name": "python",
   "nbconvert_exporter": "python",
   "pygments_lexer": "ipython3",
   "version": "3.12.3"
  }
 },
 "nbformat": 4,
 "nbformat_minor": 2
}
