{
 "cells": [
  {
   "cell_type": "code",
   "execution_count": 28,
   "metadata": {},
   "outputs": [
    {
     "name": "stdout",
     "output_type": "stream",
     "text": [
      "Requirement already satisfied: selenium in /home/shuchi/.venvs/myenv/lib/python3.12/site-packages (4.27.1)\n",
      "Requirement already satisfied: urllib3<3,>=1.26 in /home/shuchi/.venvs/myenv/lib/python3.12/site-packages (from urllib3[socks]<3,>=1.26->selenium) (2.3.0)\n",
      "Requirement already satisfied: trio~=0.17 in /home/shuchi/.venvs/myenv/lib/python3.12/site-packages (from selenium) (0.28.0)\n",
      "Requirement already satisfied: trio-websocket~=0.9 in /home/shuchi/.venvs/myenv/lib/python3.12/site-packages (from selenium) (0.11.1)\n",
      "Requirement already satisfied: certifi>=2021.10.8 in /home/shuchi/.venvs/myenv/lib/python3.12/site-packages (from selenium) (2024.12.14)\n",
      "Requirement already satisfied: typing_extensions~=4.9 in /home/shuchi/.venvs/myenv/lib/python3.12/site-packages (from selenium) (4.12.2)\n",
      "Requirement already satisfied: websocket-client~=1.8 in /home/shuchi/.venvs/myenv/lib/python3.12/site-packages (from selenium) (1.8.0)\n",
      "Requirement already satisfied: attrs>=23.2.0 in /home/shuchi/.venvs/myenv/lib/python3.12/site-packages (from trio~=0.17->selenium) (24.3.0)\n",
      "Requirement already satisfied: sortedcontainers in /home/shuchi/.venvs/myenv/lib/python3.12/site-packages (from trio~=0.17->selenium) (2.4.0)\n",
      "Requirement already satisfied: idna in /home/shuchi/.venvs/myenv/lib/python3.12/site-packages (from trio~=0.17->selenium) (3.10)\n",
      "Requirement already satisfied: outcome in /home/shuchi/.venvs/myenv/lib/python3.12/site-packages (from trio~=0.17->selenium) (1.3.0.post0)\n",
      "Requirement already satisfied: sniffio>=1.3.0 in /home/shuchi/.venvs/myenv/lib/python3.12/site-packages (from trio~=0.17->selenium) (1.3.1)\n",
      "Requirement already satisfied: wsproto>=0.14 in /home/shuchi/.venvs/myenv/lib/python3.12/site-packages (from trio-websocket~=0.9->selenium) (1.2.0)\n",
      "Requirement already satisfied: pysocks!=1.5.7,<2.0,>=1.5.6 in /home/shuchi/.venvs/myenv/lib/python3.12/site-packages (from urllib3[socks]<3,>=1.26->selenium) (1.7.1)\n",
      "Requirement already satisfied: h11<1,>=0.9.0 in /home/shuchi/.venvs/myenv/lib/python3.12/site-packages (from wsproto>=0.14->trio-websocket~=0.9->selenium) (0.14.0)\n",
      "Note: you may need to restart the kernel to use updated packages.\n"
     ]
    }
   ],
   "source": [
    "pip install selenium"
   ]
  },
  {
   "cell_type": "code",
   "execution_count": 29,
   "metadata": {},
   "outputs": [
    {
     "name": "stdout",
     "output_type": "stream",
     "text": [
      "Requirement already satisfied: beautifulsoup4 in /home/shuchi/.venvs/myenv/lib/python3.12/site-packages (4.12.3)\n",
      "Requirement already satisfied: soupsieve>1.2 in /home/shuchi/.venvs/myenv/lib/python3.12/site-packages (from beautifulsoup4) (2.6)\n",
      "Note: you may need to restart the kernel to use updated packages.\n"
     ]
    }
   ],
   "source": [
    "pip install beautifulsoup4"
   ]
  },
  {
   "cell_type": "code",
   "execution_count": 30,
   "metadata": {},
   "outputs": [],
   "source": [
    "from selenium import webdriver\n",
    "from selenium.webdriver.common.by import By\n",
    "from selenium.webdriver.common.keys import Keys\n",
    "from selenium.webdriver.support.ui import WebDriverWait\n",
    "from selenium.webdriver.support import expected_conditions as EC\n",
    "from bs4 import BeautifulSoup\n",
    "\n",
    "\n",
    "driver = webdriver.Chrome()\n",
    "driver.get(\"https://boulder.co.publicsearch.us/\")\n",
    "#print(driver.page_source)\n",
    "search_box = driver.find_element(By.CSS_SELECTOR, '[data-testid=\"searchInputBox\"]')\n",
    "\n",
    "# AT THE MOMENT, I'M USING MY DAD'S NAME\n",
    "search_box.send_keys(\"Sanjay Shah\")\n",
    "search_box.send_keys(Keys.RETURN)\n",
    "# wait for the page to load after submitting the search\n",
    "# driver.implicitly_wait(5)\n",
    "# Wait for the page to load after submitting the search (adjust wait time if necessary)\n",
    "WebDriverWait(driver, 10).until(\n",
    "    EC.presence_of_element_located((By.TAG_NAME, 'tfoot'))  # Wait for the <tfoot> tag to appear\n",
    ")\n",
    "soup2 = BeautifulSoup(driver.page_source, \"html.parser\")\n",
    "# print(soup2.prettify())\n",
    "# driver.quit()\n",
    "\n"
   ]
  },
  {
   "cell_type": "code",
   "execution_count": 27,
   "metadata": {},
   "outputs": [
    {
     "name": "stdout",
     "output_type": "stream",
     "text": [
      "Headers:\n",
      "\n",
      "\n",
      "\n",
      "Reception Number\n",
      "Book\n",
      "Page\n",
      "Doc Type\n",
      "Grantor\n",
      "Grantee\n",
      "Recorded Date\n",
      "Legal Description\n",
      "References\n",
      "\n",
      "Rows:\n",
      "['', '', '', '02469067', 'N/A', 'N/A', 'DEED OF TRUST', 'SHAHBHAVI', 'WELLS FARGO HOME MORTGAGE', '7/11/2003', 'L 14 B 7 DODD ESTATES #1', '02978162']\n",
      "['', '', '', '02343160', 'N/A', 'N/A', 'DEED OF TRUST', 'SHAHBAHVI', 'JOHN LAING MORTGAGE', '10/14/2002', 'L 14 B 7 DODD ESTATES #1', '02343161']\n",
      "['', '', '', '02975443', 'N/A', 'N/A', 'DEED OF TRUST', 'SHAHBHAVI', 'ELEVATIONS CREDIT UNION', '1/27/2009', 'Subdivision-  Name: DODD ESTATES 1ST Lot: 14 Block: 7', '03152791']\n",
      "['', '', '', '03151268', 'N/A', 'N/A', 'DEED OF TRUST', 'SHAHBHAVI', 'INTERBANK MORTGAGE COMPANY', '5/31/2011', 'Subdivision-  Name: DODD ESTATES 1ST Lot: 14 Block: 7', '03216351']\n",
      "['', '', '', '03244160', 'N/A', 'N/A', 'DEED OF TRUST', 'SHAHBHAVI', 'PROVIDENT FUNDING ASSOCIATES LP', '8/13/2012', 'Subdivision-  Name: DODD ESTATES 1ST Lot: 14 Block: 7', '03756314']\n",
      "['', '', '', '03201248', 'N/A', 'N/A', 'DEED OF TRUST', 'SHAHBHAVI', 'MORTGAGE ELECTRONIC REGISTRATION SYSTEMS INC NOMINEE', '2/7/2012', 'Subdivision-  Name: DODD ESTATES 1ST Lot: 14 Block: 7', '03299667']\n",
      "['', '', '', '02978162', 'N/A', 'N/A', 'RELEASE OF DEED OF TRUST', 'WELLS FARGO BANK NA', 'SHAHBHAVI', '2/10/2009', 'N/A', '02469067']\n",
      "['', '', '', '02517090', 'N/A', 'N/A', 'RELEASE OF DEED OF TRUST', 'WELLS FARGO HOME MORTGAGE', 'SHAHBHAVI', '10/20/2003', 'N/A', '02343160']\n",
      "['', '', '', '02343158', 'N/A', 'N/A', 'WARRANTY DEED JOINT TENANCY', 'WATT HOMES-COLORADO DIVISION', 'SHAHBHAVI', '10/14/2002', 'L 14 B 7 DODD ESTATES #1', 'N/A']\n",
      "['', '', '', '03152791', 'N/A', 'N/A', 'RELEASE OF DEED OF TRUST', 'ELEVATIONS CREDIT UNION', 'SHAHBHAVI', '6/8/2011', 'N/A', '02975443']\n",
      "['', '', '', '03216351', 'N/A', 'N/A', 'RELEASE OF DEED OF TRUST', 'CITIMORTGAGE INC', 'SHAHBHAVI', '4/13/2012', 'N/A', '03151268']\n",
      "['', '', '', '03756314', 'N/A', 'N/A', 'RELEASE OF DEED OF TRUST', 'FIRST AMERICAN TITLE INSURANCE COMPANY', 'SHAHBHAVI', '12/20/2019', 'N/A', '03244160']\n",
      "['', '', '', '03299667', 'N/A', 'N/A', 'RELEASE OF DEED OF TRUST', 'INTERBANK MORTGAGE COMPANY', 'SHAHBHAVI', '3/26/2013', 'N/A', '03201248']\n",
      "['', '', '', '03873662', 'N/A', 'N/A', 'QUIT CLAIM DEED', 'SHAHFAMILY TRUST', 'SHAHSANJAYB', '4/1/2021', 'Subdivision-  Name: PELOTON CONDOMINIUMS Unit: 201', 'N/A']\n",
      "['', '', '', '03873663', 'N/A', 'N/A', 'DEED OF TRUST', 'SHAHSANJAYB', 'QUICKEN LOANS LLC', '4/1/2021', 'Subdivision-  Name: PELOTON CONDOMINIUMS Unit: 201', 'N/A']\n",
      "['', '', '', '03873664', 'N/A', 'N/A', 'QUIT CLAIM DEED', 'SHAHSANJAYB', 'SHAHFAMILY TRUST', '4/1/2021', 'Subdivision-  Name: PELOTON CONDOMINIUMS Unit: 201', 'N/A']\n",
      "['', '', '', '03691567', 'N/A', 'N/A', 'POWER OF ATTORNEY', 'SHAHMOUSAMI S', 'SHAHSANJAYB', '12/26/2018', 'Subdivision-  Name: PELOTON CONDOMINIUMS Unit: 201', 'N/A']\n",
      "['', '', '', '03743577', 'N/A', 'N/A', 'WARRANTY DEED', 'SHAHMOUSAMI S', 'SHAHFAMILY TRUST', '10/18/2019', 'Subdivision-  Name: PELOTON CONDOMINIUMS Unit: 201', 'N/A']\n",
      "['', '', '', '03691569', 'N/A', 'N/A', 'DEED OF TRUST', 'SHAHMOUSAMI S', 'BANK OF AMERICA NA', '12/26/2018', 'Subdivision-  Name: PELOTON CONDOMINIUMS Unit: 201', '03876075']\n",
      "['', '', '', '03691568', 'N/A', 'N/A', 'WARRANTY DEED JOINT TENANCY', 'CITYVIEW PELOTON 390 LP', 'SHAHMOUSAMI S', '12/26/2018', 'Subdivision-  Name: PELOTON CONDOMINIUMS Unit: 201', 'N/A']\n",
      "['', '', '', '03876075', 'N/A', 'N/A', 'RELEASE OF DEED OF TRUST', 'BANK OF AMERICA NA', 'SHAHMOUSAMI S', '4/12/2021', 'N/A', '03691569']\n",
      "['', '', '', '02343159', 'N/A', 'N/A', 'COVENANT', 'SHAHBAHVI', 'SHAHBAHVI', '10/14/2002', 'N/A', 'N/A']\n",
      "['', '', '', '03743576', 'N/A', 'N/A', 'STATEMENT', 'SHAHFAMILY TRUST', 'SHAHFAMILY TRUST', '10/18/2019', 'N/A', 'N/A']\n"
     ]
    }
   ],
   "source": [
    "# Find the table header row <tr> inside the <tfoot>\n",
    "header_row = soup2.find('tfoot').find('tr')\n",
    "    \n",
    "# Extract all the <th> elements (headers) from the row\n",
    "headers = header_row.find_all('th')\n",
    "\n",
    "# Print the table headers\n",
    "print(\"Headers:\")\n",
    "for header in headers:\n",
    "    print(header.get_text(strip=True))\n",
    "    \n",
    "# Find all the table rows <tr> inside the <tbody> (this should be where the rows are located)\n",
    "rows = soup2.find_all('tr', class_='')\n",
    "\n",
    "# Print all the rows under the table headers\n",
    "print(\"\\nRows:\")\n",
    "for row in rows:\n",
    "    cols = row.find_all('td')  # Extract all <td> elements (columns)\n",
    "    \n",
    "    if len(cols) > 1:  # Ensure it's a valid row with data (ignores empty rows)\n",
    "        row_data = [col.get_text(strip=True) for col in cols]  # Extract and clean up the text\n",
    "        print(row_data)\n",
    "\n",
    "# Close the driver\n",
    "driver.quit()"
   ]
  },
  {
   "cell_type": "code",
   "execution_count": null,
   "metadata": {},
   "outputs": [],
   "source": []
  }
 ],
 "metadata": {
  "kernelspec": {
   "display_name": "myenv",
   "language": "python",
   "name": "python3"
  },
  "language_info": {
   "codemirror_mode": {
    "name": "ipython",
    "version": 3
   },
   "file_extension": ".py",
   "mimetype": "text/x-python",
   "name": "python",
   "nbconvert_exporter": "python",
   "pygments_lexer": "ipython3",
   "version": "3.12.3"
  }
 },
 "nbformat": 4,
 "nbformat_minor": 2
}
