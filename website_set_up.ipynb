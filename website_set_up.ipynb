{
 "cells": [
  {
   "cell_type": "markdown",
   "id": "80eed30a-fd07-4676-992a-e2875c5acf86",
   "metadata": {},
   "source": [
    "## Setting up the Website!\n",
    "Ok so what you want to do to get everything set up on your end is\n",
    "### Creating the web app\n",
    "1. Go into the directory you want to create the project in your terminal\n",
    "2. Run npm install react@latest react-dom@latest next@latest\n",
    "### Set up your development server\n",
    "1. Go into your package.json file\n",
    "2. Add this line in the file \"  \n",
    "   \"scripts\": {  \n",
    "    \"dev\": \"next dev\"  \n",
    "  },\"  \n",
    "So it looks like:  \n",
    "{  \n",
    "  \"scripts\": {   \n",
    "    \"dev\": \"next dev\"  \n",
    "  },  \n",
    "  \"dependencies\": {  \n",
    "    \"next\": \"^14.0.3\",  \n",
    "    \"react\": \"^18.3.1\",  \n",
    "    \"react-dom\": \"^18.3.1\"  \n",
    "  }  \n",
    "}\n",
    "### Load in webpage\n",
    "1. Copy in the directories for backend and app\n",
    "2. cp -r /backend .\n",
    "3. cp -r /app .\n",
    "### Set Up Python Environment\n",
    "1. in root folder for the app enter \"python3 venv webenv\"\n",
    "2. run \"source ./webenv/bin/activate\"\n",
    "3. If the command was successful, your terminal interface should begin with (webenv)\n",
    "4. once successful, run \"pip install flask flask_cors\"\n",
    "### Start Python Flask Server\n",
    "1. navigate to the backend directory\n",
    "2. run \"python3 server.py\"\n",
    "### test page\n",
    "1. in the terminal run \"npm run dev\""
   ]
  },
  {
   "cell_type": "code",
   "execution_count": null,
   "id": "423b2f7c-4485-453d-a946-e11f1be3216c",
   "metadata": {},
   "outputs": [],
   "source": []
  }
 ],
 "metadata": {
  "kernelspec": {
   "display_name": "Python 3 (ipykernel)",
   "language": "python",
   "name": "python3"
  },
  "language_info": {
   "codemirror_mode": {
    "name": "ipython",
    "version": 3
   },
   "file_extension": ".py",
   "mimetype": "text/x-python",
   "name": "python",
   "nbconvert_exporter": "python",
   "pygments_lexer": "ipython3",
   "version": "3.12.7"
  }
 },
 "nbformat": 4,
 "nbformat_minor": 5
}
