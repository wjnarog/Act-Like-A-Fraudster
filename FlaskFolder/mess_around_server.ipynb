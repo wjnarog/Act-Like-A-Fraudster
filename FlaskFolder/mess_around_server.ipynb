{
 "cells": [
  {
   "cell_type": "code",
   "execution_count": 1,
   "id": "4d50d756-b1bb-4501-89f7-25291ad99e3c",
   "metadata": {},
   "outputs": [
    {
     "name": "stdout",
     "output_type": "stream",
     "text": [
      "Requirement already satisfied: flask_cors in c:\\users\\zach0\\anaconda3\\lib\\site-packages (5.0.0)\n",
      "Requirement already satisfied: Flask>=0.9 in c:\\users\\zach0\\anaconda3\\lib\\site-packages (from flask_cors) (3.0.3)\n",
      "Requirement already satisfied: Werkzeug>=3.0.0 in c:\\users\\zach0\\anaconda3\\lib\\site-packages (from Flask>=0.9->flask_cors) (3.0.3)\n",
      "Requirement already satisfied: Jinja2>=3.1.2 in c:\\users\\zach0\\anaconda3\\lib\\site-packages (from Flask>=0.9->flask_cors) (3.1.4)\n",
      "Requirement already satisfied: itsdangerous>=2.1.2 in c:\\users\\zach0\\anaconda3\\lib\\site-packages (from Flask>=0.9->flask_cors) (2.2.0)\n",
      "Requirement already satisfied: click>=8.1.3 in c:\\users\\zach0\\anaconda3\\lib\\site-packages (from Flask>=0.9->flask_cors) (8.1.7)\n",
      "Requirement already satisfied: blinker>=1.6.2 in c:\\users\\zach0\\anaconda3\\lib\\site-packages (from Flask>=0.9->flask_cors) (1.6.2)\n",
      "Requirement already satisfied: colorama in c:\\users\\zach0\\anaconda3\\lib\\site-packages (from click>=8.1.3->Flask>=0.9->flask_cors) (0.4.6)\n",
      "Requirement already satisfied: MarkupSafe>=2.0 in c:\\users\\zach0\\anaconda3\\lib\\site-packages (from Jinja2>=3.1.2->Flask>=0.9->flask_cors) (2.1.3)\n",
      "Note: you may need to restart the kernel to use updated packages.\n"
     ]
    }
   ],
   "source": [
    "pip install flask_cors"
   ]
  },
  {
   "cell_type": "code",
   "execution_count": null,
   "id": "29e9029c-eda2-4b2f-b84e-06c67f40cbdd",
   "metadata": {},
   "outputs": [
    {
     "name": "stdout",
     "output_type": "stream",
     "text": [
      " * Serving Flask app '__main__'\n",
      " * Debug mode: off\n"
     ]
    },
    {
     "name": "stderr",
     "output_type": "stream",
     "text": [
      "WARNING: This is a development server. Do not use it in a production deployment. Use a production WSGI server instead.\n",
      " * Running on http://127.0.0.1:5000\n",
      "Press CTRL+C to quit\n",
      "127.0.0.1 - - [03/Mar/2025 14:05:38] \"GET /random HTTP/1.1\" 200 -\n",
      "127.0.0.1 - - [03/Mar/2025 14:05:39] \"GET /random HTTP/1.1\" 200 -\n",
      "127.0.0.1 - - [03/Mar/2025 14:05:39] \"GET /random HTTP/1.1\" 200 -\n",
      "127.0.0.1 - - [03/Mar/2025 14:05:39] \"GET /random HTTP/1.1\" 200 -\n",
      "127.0.0.1 - - [03/Mar/2025 14:05:39] \"GET /random HTTP/1.1\" 200 -\n",
      "127.0.0.1 - - [03/Mar/2025 14:05:47] \"OPTIONS /query HTTP/1.1\" 200 -\n"
     ]
    },
    {
     "name": "stdout",
     "output_type": "stream",
     "text": [
      "{'address': '3135 Moorhead Ave', 'county': 'Boulder'}\n",
      "County is boulder\n",
      "Query is 3135 moorhead ave\n",
      "{'Total:': '649300', 'Structure:': '214800', 'Land:': '434500'}\n",
      "{'Account Number': 'R0005089', 'Owner': 'CAMPBELL LOWELL M & BEVERLY J', \"Owner's Mailing Address\": '586 CLEVELAND AVE', 'Property Address': '3135     MOORHEAD AVE', 'City': 'LOUISVILLE', 'State': 'CO', 'Zip Code': '80027-2711', 'Parcel Number': '157705215002', 'Subdivision': 'HIGHLAND PARK 2 - BO', 'Market Area': '104', 'Square Feet': '6,856', 'Acres': '0.16', 'Total Value': '649300', 'Structure Value': '214800', 'Land Value': '434500', 'Property tax estimate': '$3,499.36', 'Class': 'SINGLE FAM RES IMPROVEMENTS', 'Built': '1955', 'Number of rooms': '5', 'Bedrooms': '3', 'Full Bath': '1', '3/4 Bath': '0', 'Half Bath': '0', 'Deed Numbers': ['139833'], 'Zoning': 'Not County Zoned'}\n"
     ]
    },
    {
     "name": "stderr",
     "output_type": "stream",
     "text": [
      "127.0.0.1 - - [03/Mar/2025 14:06:01] \"POST /query HTTP/1.1\" 200 -\n",
      "127.0.0.1 - - [03/Mar/2025 14:06:22] \"OPTIONS /query HTTP/1.1\" 200 -\n"
     ]
    },
    {
     "name": "stdout",
     "output_type": "stream",
     "text": [
      "{'address': '2311 Spruce Street', 'county': 'Boulder'}\n",
      "County is boulder\n",
      "Query is 2311 spruce street\n",
      "{'Total:': '2622300', 'Structure:': '1685000', 'Land:': '937300'}\n",
      "{'Account Number': 'R0003632', 'Owner': 'WINGFIELD COMPANY LLC', \"Owner's Mailing Address\": '544 MARINE ST', 'Property Address': '2311     SPRUCE ST', 'City': 'BOULDER', 'State': 'CO', 'Zip Code': '80302', 'Parcel Number': '146330614007', 'Subdivision': 'BOULDER O T EAST & WEST & NORTH - BO', 'Market Area': '640', 'Square Feet': '6,776', 'Acres': '0.16', 'Total Value': '2622300', 'Structure Value': '1685000', 'Land Value': '937300', 'Property tax estimate': '$15,116.84', 'Class': 'MULTI-UNITS (4-8) IMPROVEMENTS', 'Built': '1977', 'Number of rooms': '15', 'Bedrooms': '10', 'Full Bath': '4', '3/4 Bath': '1', 'Half Bath': '0', 'Deed Numbers': ['3109427', '3102460', '2581185', '2561988', '2516967', '2513853', '2484754', '2462323', '1800238', '1796703', '16667062', '1124922'], 'Zoning': ''}\n"
     ]
    },
    {
     "name": "stderr",
     "output_type": "stream",
     "text": [
      "127.0.0.1 - - [03/Mar/2025 14:06:36] \"POST /query HTTP/1.1\" 200 -\n"
     ]
    }
   ],
   "source": [
    "# Importing flask module in the project is mandatory\n",
    "# An object of Flask class is our WSGI application.\n",
    "from flask import Flask, jsonify, request\n",
    "from flask_cors import CORS\n",
    "from selenium import webdriver\n",
    "from selenium.webdriver.common.by import By\n",
    "from selenium.webdriver.chrome.service import Service\n",
    "from selenium.webdriver.common.keys import Keys\n",
    "from selenium.webdriver.support.ui import WebDriverWait\n",
    "from selenium.webdriver.support import expected_conditions as EC\n",
    "from bs4 import BeautifulSoup\n",
    "import random\n",
    "import time\n",
    "import re\n",
    "\n",
    "import denver\n",
    "import boulder\n",
    "import adams\n",
    "\n",
    "# Flask constructor takes the name of \n",
    "# current module (__name__) as argument.\n",
    "app = Flask(__name__)\n",
    "CORS(app)  # Enable CORS for all routes\n",
    "\n",
    "\n",
    "# Open the URL\n",
    "#driver.get(\"https://www.homes.com/douglas-county-co/\")\n",
    "\n",
    "def search_adams(query):\n",
    "    return jsonify(adams.scrape_property_info(query))\n",
    "\n",
    "def search_boulder(query):\n",
    "    return jsonify(boulder.search_boulder(query))\n",
    "\n",
    "def search_broomfield(query):\n",
    "    data_set = {}\n",
    "    data_set['Broomfield'] = \"NULL\"\n",
    "    return(jsonify(data_set))\n",
    "\n",
    "def search_douglas(query):\n",
    "    data_set = {}\n",
    "    data_set['Douglas'] = \"NULL\"\n",
    "    return(jsonify(data_set))\n",
    "\n",
    "def search_el_paso(query):\n",
    "    data_set = {}\n",
    "    data_set['El Paso'] = \"NULL\"\n",
    "    return(jsonify(data_set))\n",
    "\n",
    "def search_larimer(query):\n",
    "    data_set = {}\n",
    "    data_set['Larimer'] = \"NULL\"\n",
    "    return(jsonify(data_set))\n",
    "\n",
    "def search_weld(query):\n",
    "    data_set = {}\n",
    "    data_set['Weld'] = \"NULL\"\n",
    "    return(jsonify(data_set))\n",
    "\n",
    "def search_denver(query):\n",
    "    return jsonify(denver.search_denver(query))\n",
    "\n",
    "\n",
    "\n",
    "@app.route('/query', methods=['POST'])\n",
    "def query():\n",
    "    # Get the JSON data from the request\n",
    "    request_data = request.get_json()\n",
    "    \n",
    "    # Extract the query from the JSON data\n",
    "    query = request_data.get('address', '').lower()\n",
    "    county = request_data.get('county', '').lower()\n",
    "\n",
    "    print(request_data);\n",
    "    print(\"County is \" + county)\n",
    "    print(\"Query is \" + query)\n",
    "\n",
    "    if (county == 'adams'):\n",
    "        return(search_adams(query))\n",
    "    elif (county == 'boulder'):\n",
    "        return(search_boulder(query))\n",
    "    elif (county == 'broomfield'):\n",
    "        return(search_broomfield(query))\n",
    "    elif (county == 'denver'):\n",
    "        return(search_denver(query))\n",
    "    elif (county == 'douglas'):\n",
    "        return(search_douglas(query))\n",
    "    elif (county == 'el paso'):\n",
    "        return(search_el_paso(query))\n",
    "    elif (county == 'larimer'):\n",
    "        return(search_larimer(query))\n",
    "    elif (county == 'weld'):\n",
    "        return(search_weld(query))\n",
    "    data_set[county] = \"NULL\"\n",
    "    return(jsonify(data_set))\n",
    "\n",
    "\n",
    "\n",
    "\n",
    "\n",
    "@app.route('/search-property', methods=['GET'])\n",
    "def search_property():\n",
    "\n",
    "    number = random.randint(1, 100)  # Generate a random number between 1 and 100\n",
    "    return jsonify({'number': number})\n",
    "\n",
    "# The route() function of the Flask class is a decorator, \n",
    "# which tells the application which URL should call \n",
    "# the associated function.\n",
    "\n",
    "@app.route('/')\n",
    "# ‘/’ URL is bound with hello_world() function.\n",
    "def hello_world():\n",
    "    return 'Hello World'\n",
    "\n",
    "@app.route('/random', methods=['GET'])\n",
    "def random_number():\n",
    "    number = random.randint(1, 100)  # Generate a random number between 1 and 100\n",
    "    return jsonify({'number': number})\n",
    "\n",
    "# main driver function\n",
    "if __name__ == '__main__':\n",
    "\n",
    "    # run() method of Flask class runs the application \n",
    "    # on the local development server.\n",
    "    app.run()"
   ]
  },
  {
   "cell_type": "code",
   "execution_count": null,
   "id": "cc49df33-6013-408a-bcbd-1a9a64d9d0fd",
   "metadata": {},
   "outputs": [],
   "source": []
  },
  {
   "cell_type": "code",
   "execution_count": null,
   "id": "c0fc8412-08bb-47fb-b09f-bf23d0ed6538",
   "metadata": {},
   "outputs": [],
   "source": []
  }
 ],
 "metadata": {
  "kernelspec": {
   "display_name": "Python 3 (ipykernel)",
   "language": "python",
   "name": "python3"
  },
  "language_info": {
   "codemirror_mode": {
    "name": "ipython",
    "version": 3
   },
   "file_extension": ".py",
   "mimetype": "text/x-python",
   "name": "python",
   "nbconvert_exporter": "python",
   "pygments_lexer": "ipython3",
   "version": "3.12.7"
  }
 },
 "nbformat": 4,
 "nbformat_minor": 5
}
