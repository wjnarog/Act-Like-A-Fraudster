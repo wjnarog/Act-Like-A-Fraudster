{
 "cells": [
  {
   "cell_type": "code",
   "execution_count": 1,
   "id": "4d50d756-b1bb-4501-89f7-25291ad99e3c",
   "metadata": {},
   "outputs": [
    {
     "name": "stdout",
     "output_type": "stream",
     "text": [
      "Requirement already satisfied: flask_cors in c:\\users\\zach0\\anaconda3\\lib\\site-packages (5.0.0)\n",
      "Requirement already satisfied: Flask>=0.9 in c:\\users\\zach0\\anaconda3\\lib\\site-packages (from flask_cors) (3.0.3)\n",
      "Requirement already satisfied: Werkzeug>=3.0.0 in c:\\users\\zach0\\anaconda3\\lib\\site-packages (from Flask>=0.9->flask_cors) (3.0.3)\n",
      "Requirement already satisfied: Jinja2>=3.1.2 in c:\\users\\zach0\\anaconda3\\lib\\site-packages (from Flask>=0.9->flask_cors) (3.1.4)\n",
      "Requirement already satisfied: itsdangerous>=2.1.2 in c:\\users\\zach0\\anaconda3\\lib\\site-packages (from Flask>=0.9->flask_cors) (2.2.0)\n",
      "Requirement already satisfied: click>=8.1.3 in c:\\users\\zach0\\anaconda3\\lib\\site-packages (from Flask>=0.9->flask_cors) (8.1.7)\n",
      "Requirement already satisfied: blinker>=1.6.2 in c:\\users\\zach0\\anaconda3\\lib\\site-packages (from Flask>=0.9->flask_cors) (1.6.2)\n",
      "Requirement already satisfied: colorama in c:\\users\\zach0\\anaconda3\\lib\\site-packages (from click>=8.1.3->Flask>=0.9->flask_cors) (0.4.6)\n",
      "Requirement already satisfied: MarkupSafe>=2.0 in c:\\users\\zach0\\anaconda3\\lib\\site-packages (from Jinja2>=3.1.2->Flask>=0.9->flask_cors) (2.1.3)\n",
      "Note: you may need to restart the kernel to use updated packages.\n"
     ]
    }
   ],
   "source": [
    "pip install flask_cors"
   ]
  },
  {
   "cell_type": "code",
   "execution_count": 3,
   "id": "29e9029c-eda2-4b2f-b84e-06c67f40cbdd",
   "metadata": {},
   "outputs": [
    {
     "name": "stdout",
     "output_type": "stream",
     "text": [
      " * Serving Flask app '__main__'\n",
      " * Debug mode: off\n"
     ]
    },
    {
     "name": "stderr",
     "output_type": "stream",
     "text": [
      "WARNING: This is a development server. Do not use it in a production deployment. Use a production WSGI server instead.\n",
      " * Running on http://127.0.0.1:5000\n",
      "Press CTRL+C to quit\n",
      "127.0.0.1 - - [05/Mar/2025 21:28:07] \"GET /random HTTP/1.1\" 200 -\n",
      "127.0.0.1 - - [05/Mar/2025 21:28:08] \"GET /random HTTP/1.1\" 200 -\n",
      "127.0.0.1 - - [05/Mar/2025 21:28:21] \"OPTIONS /query HTTP/1.1\" 200 -\n"
     ]
    },
    {
     "name": "stdout",
     "output_type": "stream",
     "text": [
      "{'address': '1803 Lake Drive', 'county': 'Douglas'}\n",
      "County is douglas\n",
      "Query is 1803 lake drive\n",
      "Account Summary:\n",
      "Account #:: R0396757\n",
      "State Parcel #:: 2607-202-03-017\n",
      "Account Type:: Residential\n",
      "Tax District:: 0169\n",
      "Neighborhood-Ext:: 605-B\n",
      "Building Count:: 1\n",
      "Building Permit Authority:: Douglas County (website )\n",
      "Phone:: 303-660-7497\n",
      "Name:: SAGE PORT\n",
      "Reception No:: 9612831\n",
      "\n",
      "Location Description: LOT 66 SAGE PORT FILING #4 FIRST AMENDMENT. 2.30 AM/L\n",
      "\n",
      "Owner Info:\n",
      "Owner Name: COOK FAMILY TRUST\n",
      "Owner Address: 1803 LAKE DRLARKSPUR, CO 80118\n",
      "\n",
      "Public Land Survey System (PLSS) Location: \n",
      "Quarter: NW; \n",
      "Section: 20; \n",
      "Township: 9; \n",
      "Range: 67\n",
      "\n",
      "Section PDF Map Link: /realware/SectionMaps/TWP2607/DC_2607_20.pdf\n",
      "{'Account #:': 'R0396757', 'State Parcel #:': '2607-202-03-017', 'Account Type:': 'Residential', 'Tax District:': '0169', 'Neighborhood-Ext:': '605-B', 'Building Count:': '1', 'Building Permit Authority:': 'Douglas County (website\\xa0)', 'Phone:': '303-660-7497', 'Name:': 'SAGE PORT', 'Reception No:': '9612831', 'Location Description': 'LOT 66 SAGE PORT FILING #4 FIRST AMENDMENT. 2.30 AM/L', 'Owner Name': 'COOK FAMILY TRUST', 'Owner Address': '1803 LAKE DRLARKSPUR, CO 80118'}\n",
      "Show graphs\n",
      "{'Account #:': 'R0396757', 'State Parcel #:': '2607-202-03-017', 'Account Type:': 'Residential', 'Tax District:': '0169', 'Neighborhood-Ext:': '605-B', 'Building Count:': '1', 'Building Permit Authority:': 'Douglas County (website\\xa0)', 'Phone:': '303-660-7497', 'Name:': 'SAGE PORT', 'Reception No:': '9612831', 'Location Description': 'LOT 66 SAGE PORT FILING #4 FIRST AMENDMENT. 2.30 AM/L', 'Owner Name': 'COOK FAMILY TRUST', 'Owner Address': '1803 LAKE DRLARKSPUR, CO 80118', 'Get Taxes Due': 'http://apps.douglas.co.us/treasurer/treasurerweb/account.jsp?account=R0396757&guest=true', 'Property Tax Calculation': 'https://www.douglas.co.us/assessor/residential-property-tax-calculations', 'sale0': {'Year': '2024', 'Actual Value': '$1,295,427', 'Assessed Value': '$86,790', 'Tax Rate': '9.7470%', 'Est. Tax Amount': 'Tax Calculation'}, 'sale1': {'Year': '2023', 'Actual Value': '$1,295,427', 'Assessed Value': '$86,790', 'Tax Rate': '9.8441%', 'Est. Tax Amount': 'Tax Calculation'}, 'sale2': {'Year': '2022', 'Actual Value': '$852,669', 'Assessed Value': '$59,260', 'Tax Rate': '9.4724%', 'Est. Tax Amount': '$5,613'}, 'sale3': {'Year': '2021', 'Actual Value': '$852,669', 'Assessed Value': '$60,970', 'Tax Rate': '9.5310%', 'Est. Tax Amount': '$5,811'}, 'sale4': {'Year': '2020', 'Actual Value': '$743,866', 'Assessed Value': '$53,190', 'Tax Rate': '9.6060%', 'Est. Tax Amount': '$5,109'}, 'sale5': {'Year': '2019', 'Actual Value': '$743,866', 'Assessed Value': '$53,190', 'Tax Rate': '9.6378%', 'Est. Tax Amount': '$5,126'}, 'sale6': {'Year': '2018', 'Actual Value': '$659,857', 'Assessed Value': '$47,510', 'Tax Rate': '9.8102%', 'Est. Tax Amount': '$4,661'}, 'sale7': {'Year': '2017', 'Actual Value': '$659,857', 'Assessed Value': '$47,510', 'Tax Rate': '9.2206%', 'Est. Tax Amount': '$4,381'}, 'sale8': {'Year': '2016', 'Actual Value': '$611,328', 'Assessed Value': '$48,670', 'Tax Rate': '9.3750%', 'Est. Tax Amount': '$4,563'}, 'sale9': {'Year': '2015', 'Actual Value': '$611,328', 'Assessed Value': '$48,670', 'Tax Rate': '9.1681%', 'Est. Tax Amount': '$4,462'}, 'sale10': {'Year': '2014', 'Actual Value': '$528,657', 'Assessed Value': '$42,080', 'Tax Rate': '9.7768%', 'Est. Tax Amount': '$4,114'}, 'sale11': {'Year': '2013', 'Actual Value': '$528,657', 'Assessed Value': '$42,080', 'Tax Rate': '9.7798%', 'Est. Tax Amount': '$4,115'}, 'sale12': {'Year': '2012', 'Actual Value': '$579,914', 'Assessed Value': '$46,160', 'Tax Rate': '9.8364%', 'Est. Tax Amount': '$4,540'}, 'sale13': {'Year': '2011', 'Actual Value': '$579,914', 'Assessed Value': '$46,160', 'Tax Rate': '9.8265%', 'Est. Tax Amount': '$4,536'}, 'sale14': {'Year': '2010', 'Actual Value': '$819,982', 'Assessed Value': '$65,270', 'Tax Rate': '9.4128%', 'Est. Tax Amount': '$6,144'}, 'sale15': {'Year': '2009', 'Actual Value': '$819,982', 'Assessed Value': '$65,270', 'Tax Rate': '9.3955%', 'Est. Tax Amount': '$6,132'}, 'sale16': {'Year': '2008', 'Actual Value': '$799,442', 'Assessed Value': '$63,640', 'Tax Rate': '9.4639%', 'Est. Tax Amount': '$6,023'}, 'sale17': {'Year': '2007', 'Actual Value': '$799,442', 'Assessed Value': '$63,640', 'Tax Rate': '9.6944%', 'Est. Tax Amount': '$6,170'}, 'sale18': {'Year': '2006', 'Actual Value': '$794,256', 'Assessed Value': '$63,230', 'Tax Rate': '9.8685%', 'Est. Tax Amount': '$6,240'}}\n"
     ]
    },
    {
     "name": "stderr",
     "output_type": "stream",
     "text": [
      "127.0.0.1 - - [05/Mar/2025 21:28:33] \"POST /query HTTP/1.1\" 200 -\n"
     ]
    }
   ],
   "source": [
    "# Importing flask module in the project is mandatory\n",
    "# An object of Flask class is our WSGI application.\n",
    "from flask import Flask, jsonify, request\n",
    "from flask_cors import CORS\n",
    "from selenium import webdriver\n",
    "from selenium.webdriver.common.by import By\n",
    "from selenium.webdriver.chrome.service import Service\n",
    "from selenium.webdriver.common.keys import Keys\n",
    "from selenium.webdriver.support.ui import WebDriverWait\n",
    "from selenium.webdriver.support import expected_conditions as EC\n",
    "from bs4 import BeautifulSoup\n",
    "import random\n",
    "import time\n",
    "import re\n",
    "\n",
    "import denver\n",
    "import boulder\n",
    "import adams\n",
    "import douglas\n",
    "import elpaso\n",
    "\n",
    "# Flask constructor takes the name of \n",
    "# current module (__name__) as argument.\n",
    "app = Flask(__name__)\n",
    "CORS(app)  # Enable CORS for all routes\n",
    "\n",
    "\n",
    "# Open the URL\n",
    "#driver.get(\"https://www.homes.com/douglas-county-co/\")\n",
    "\n",
    "def search_adams(query):\n",
    "    return jsonify(adams.scrape_property_info(query))\n",
    "\n",
    "def search_boulder(query):\n",
    "    return jsonify(boulder.search_boulder(query))\n",
    "\n",
    "def search_broomfield(query):\n",
    "    data_set = {}\n",
    "    data_set['Broomfield'] = \"NULL\"\n",
    "    return(jsonify(data_set))\n",
    "\n",
    "def search_douglas(query):\n",
    "    return jsonify(douglas.search_douglas(query))\n",
    "\n",
    "def search_el_paso(query):\n",
    "    return(jsonify(elpaso.search_elpaso(query)))\n",
    "\n",
    "def search_larimer(query):\n",
    "    data_set = {}\n",
    "    data_set['Larimer'] = \"NULL\"\n",
    "    return(jsonify(data_set))\n",
    "\n",
    "def search_weld(query):\n",
    "    data_set = {}\n",
    "    data_set['Weld'] = \"NULL\"\n",
    "    return(jsonify(data_set))\n",
    "\n",
    "def search_denver(query):\n",
    "    return jsonify(denver.search_denver(query))\n",
    "\n",
    "\n",
    "\n",
    "@app.route('/query', methods=['POST'])\n",
    "def query():\n",
    "    # Get the JSON data from the request\n",
    "    request_data = request.get_json()\n",
    "    \n",
    "    # Extract the query from the JSON data\n",
    "    query = request_data.get('address', '').lower()\n",
    "    county = request_data.get('county', '').lower()\n",
    "\n",
    "    print(request_data);\n",
    "    print(\"County is \" + county)\n",
    "    print(\"Query is \" + query)\n",
    "\n",
    "    if (county == 'adams'):\n",
    "        return(search_adams(query))\n",
    "    elif (county == 'boulder'):\n",
    "        return(search_boulder(query))\n",
    "    elif (county == 'broomfield'):\n",
    "        return(search_broomfield(query))\n",
    "    elif (county == 'denver'):\n",
    "        return(search_denver(query))\n",
    "    elif (county == 'douglas'):\n",
    "        return(search_douglas(query))\n",
    "    elif (county == 'el paso'):\n",
    "        return(search_el_paso(query))\n",
    "    elif (county == 'larimer'):\n",
    "        return(search_larimer(query))\n",
    "    elif (county == 'weld'):\n",
    "        return(search_weld(query))\n",
    "    data_set[county] = \"NULL\"\n",
    "    return(jsonify(data_set))\n",
    "\n",
    "\n",
    "\n",
    "\n",
    "\n",
    "@app.route('/search-property', methods=['GET'])\n",
    "def search_property():\n",
    "\n",
    "    number = random.randint(1, 100)  # Generate a random number between 1 and 100\n",
    "    return jsonify({'number': number})\n",
    "\n",
    "# The route() function of the Flask class is a decorator, \n",
    "# which tells the application which URL should call \n",
    "# the associated function.\n",
    "\n",
    "@app.route('/')\n",
    "# ‘/’ URL is bound with hello_world() function.\n",
    "def hello_world():\n",
    "    return 'Hello World'\n",
    "\n",
    "@app.route('/random', methods=['GET'])\n",
    "def random_number():\n",
    "    number = random.randint(1, 100)  # Generate a random number between 1 and 100\n",
    "    return jsonify({'number': number})\n",
    "\n",
    "# main driver function\n",
    "if __name__ == '__main__':\n",
    "\n",
    "    # run() method of Flask class runs the application \n",
    "    # on the local development server.\n",
    "    app.run()"
   ]
  },
  {
   "cell_type": "code",
   "execution_count": null,
   "id": "cc49df33-6013-408a-bcbd-1a9a64d9d0fd",
   "metadata": {},
   "outputs": [],
   "source": []
  },
  {
   "cell_type": "code",
   "execution_count": 15,
   "id": "c0fc8412-08bb-47fb-b09f-bf23d0ed6538",
   "metadata": {},
   "outputs": [],
   "source": []
  },
  {
   "cell_type": "code",
   "execution_count": 17,
   "id": "035f7ff9-4107-45c8-ba70-bc1d8c5f4fa0",
   "metadata": {},
   "outputs": [
    {
     "name": "stdout",
     "output_type": "stream",
     "text": [
      "{'detail0': {'Year': 2020, 'Type': 'property_type', 'Actual': 'actual', 'Assessed': 'assessed', 'Exempt': 'exempt'}, 'detail1': {'Year': 2021, 'Type': 'property_type', 'Actual': 'actual', 'Assessed': 'assessed', 'Exempt': 'exempt'}}\n"
     ]
    }
   ],
   "source": [
    "print(returnval)"
   ]
  },
  {
   "cell_type": "code",
   "execution_count": null,
   "id": "3296f28e-84a7-4483-ae80-8837d23ac583",
   "metadata": {},
   "outputs": [],
   "source": []
  }
 ],
 "metadata": {
  "kernelspec": {
   "display_name": "Python 3 (ipykernel)",
   "language": "python",
   "name": "python3"
  },
  "language_info": {
   "codemirror_mode": {
    "name": "ipython",
    "version": 3
   },
   "file_extension": ".py",
   "mimetype": "text/x-python",
   "name": "python",
   "nbconvert_exporter": "python",
   "pygments_lexer": "ipython3",
   "version": "3.12.7"
  }
 },
 "nbformat": 4,
 "nbformat_minor": 5
}
