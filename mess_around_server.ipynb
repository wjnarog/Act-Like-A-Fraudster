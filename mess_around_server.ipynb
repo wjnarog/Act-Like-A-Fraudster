{
 "cells": [
  {
   "cell_type": "code",
   "execution_count": 1,
   "id": "4d50d756-b1bb-4501-89f7-25291ad99e3c",
   "metadata": {},
   "outputs": [
    {
     "name": "stdout",
     "output_type": "stream",
     "text": [
      "Requirement already satisfied: flask_cors in c:\\users\\zach0\\anaconda3\\lib\\site-packages (5.0.0)\n",
      "Requirement already satisfied: Flask>=0.9 in c:\\users\\zach0\\anaconda3\\lib\\site-packages (from flask_cors) (3.0.3)\n",
      "Requirement already satisfied: Werkzeug>=3.0.0 in c:\\users\\zach0\\anaconda3\\lib\\site-packages (from Flask>=0.9->flask_cors) (3.0.3)\n",
      "Requirement already satisfied: Jinja2>=3.1.2 in c:\\users\\zach0\\anaconda3\\lib\\site-packages (from Flask>=0.9->flask_cors) (3.1.4)\n",
      "Requirement already satisfied: itsdangerous>=2.1.2 in c:\\users\\zach0\\anaconda3\\lib\\site-packages (from Flask>=0.9->flask_cors) (2.2.0)\n",
      "Requirement already satisfied: click>=8.1.3 in c:\\users\\zach0\\anaconda3\\lib\\site-packages (from Flask>=0.9->flask_cors) (8.1.7)\n",
      "Requirement already satisfied: blinker>=1.6.2 in c:\\users\\zach0\\anaconda3\\lib\\site-packages (from Flask>=0.9->flask_cors) (1.6.2)\n",
      "Requirement already satisfied: colorama in c:\\users\\zach0\\anaconda3\\lib\\site-packages (from click>=8.1.3->Flask>=0.9->flask_cors) (0.4.6)\n",
      "Requirement already satisfied: MarkupSafe>=2.0 in c:\\users\\zach0\\anaconda3\\lib\\site-packages (from Jinja2>=3.1.2->Flask>=0.9->flask_cors) (2.1.3)\n",
      "Note: you may need to restart the kernel to use updated packages.\n"
     ]
    }
   ],
   "source": [
    "pip install flask_cors"
   ]
  },
  {
   "cell_type": "code",
   "execution_count": null,
   "id": "29e9029c-eda2-4b2f-b84e-06c67f40cbdd",
   "metadata": {},
   "outputs": [
    {
     "name": "stdout",
     "output_type": "stream",
     "text": [
      " * Serving Flask app '__main__'\n",
      " * Debug mode: off\n"
     ]
    },
    {
     "name": "stderr",
     "output_type": "stream",
     "text": [
      "WARNING: This is a development server. Do not use it in a production deployment. Use a production WSGI server instead.\n",
      " * Running on http://127.0.0.1:5000\n",
      "Press CTRL+C to quit\n",
      "127.0.0.1 - - [07/Apr/2025 18:49:03] \"OPTIONS /search HTTP/1.1\" 200 -\n"
     ]
    },
    {
     "name": "stdout",
     "output_type": "stream",
     "text": [
      "{'search': 'Douglas CO', 'method': 'redfin'}\n",
      "County is douglas co\n",
      "Method is redfin\n"
     ]
    },
    {
     "name": "stderr",
     "output_type": "stream",
     "text": [
      "127.0.0.1 - - [07/Apr/2025 18:49:24] \"POST /search HTTP/1.1\" 200 -\n"
     ]
    }
   ],
   "source": [
    "# Importing flask module in the project is mandatory\n",
    "# An object of Flask class is our WSGI application.\n",
    "from flask import Flask, jsonify, request\n",
    "from flask_cors import CORS\n",
    "from selenium import webdriver\n",
    "from selenium.webdriver.common.by import By\n",
    "from selenium.webdriver.chrome.service import Service\n",
    "from selenium.webdriver.common.keys import Keys\n",
    "from selenium.webdriver.support.ui import WebDriverWait\n",
    "from selenium.webdriver.support import expected_conditions as EC\n",
    "from bs4 import BeautifulSoup\n",
    "import random\n",
    "import time\n",
    "import re\n",
    "\n",
    "import denver\n",
    "import boulder\n",
    "import adams\n",
    "import douglas\n",
    "import elpaso\n",
    "import homes\n",
    "import redfin\n",
    "\n",
    "# Flask constructor takes the name of \n",
    "# current module (__name__) as argument.\n",
    "app = Flask(__name__)\n",
    "CORS(app)  # Enable CORS for all routes\n",
    "\n",
    "\n",
    "# Open the URL\n",
    "#driver.get(\"https://www.homes.com/douglas-county-co/\")\n",
    "\n",
    "def search_adams(query):\n",
    "    return jsonify(adams.scrape_property_info(query))\n",
    "\n",
    "def search_boulder(query):\n",
    "    return jsonify(boulder.search_boulder(query))\n",
    "\n",
    "def search_broomfield(query):\n",
    "    data_set = {}\n",
    "    data_set['Broomfield'] = \"NULL\"\n",
    "    return(jsonify(data_set))\n",
    "\n",
    "def search_douglas(query):\n",
    "    return jsonify(douglas.search_douglas(query))\n",
    "\n",
    "def search_el_paso(query):\n",
    "    return(jsonify(elpaso.search_elpaso(query)))\n",
    "\n",
    "def search_larimer(query):\n",
    "    data_set = {}\n",
    "    data_set['Larimer'] = \"NULL\"\n",
    "    return(jsonify(data_set))\n",
    "\n",
    "def search_weld(query):\n",
    "    data_set = {}\n",
    "    data_set['Weld'] = \"NULL\"\n",
    "    return(jsonify(data_set))\n",
    "\n",
    "def search_denver(query):\n",
    "    return jsonify(denver.search_denver(query))\n",
    "\n",
    "def search_homes(query):\n",
    "    return jsonify(homes.search_homes(query))\n",
    "\n",
    "def search_redfin(query):\n",
    "    return jsonify(redfin.scrape_redfin(query))\n",
    "\n",
    "\n",
    "\n",
    "\n",
    "\n",
    "@app.route('/search', methods=['POST'])\n",
    "def search():\n",
    "    request_data = request.get_json()\n",
    "    query = request_data.get('search', '').lower()\n",
    "    method = request_data.get('method', '').lower()\n",
    "\n",
    "    print(request_data)\n",
    "    print(\"County is \"+ query)\n",
    "    print(\"Method is \"+ method)\n",
    "\n",
    "    search_term = \" \" + str(query)\n",
    "\n",
    "    if (method == 'redfin'):\n",
    "        return (search_redfin(search_term))\n",
    "    return (search_homes(search_term))\n",
    "    \n",
    "    \n",
    "\n",
    "@app.route('/query', methods=['POST'])\n",
    "def query():\n",
    "    # Get the JSON data from the request\n",
    "    request_data = request.get_json()\n",
    "    \n",
    "    # Extract the query from the JSON data\n",
    "    query = request_data.get('address', '').lower()\n",
    "    county = request_data.get('county', '').lower()\n",
    "\n",
    "    print(request_data)\n",
    "    print(\"County is \" + county)\n",
    "    print(\"Query is \" + query)\n",
    "\n",
    "    if (county == 'adams'):\n",
    "        return(search_adams(query))\n",
    "    elif (county == 'boulder'):\n",
    "        return(search_boulder(query))\n",
    "    elif (county == 'broomfield'):\n",
    "        return(search_broomfield(query))\n",
    "    elif (county == 'denver'):\n",
    "        return(search_denver(query))\n",
    "    elif (county == 'douglas'):\n",
    "        return(search_douglas(query))\n",
    "    elif (county == 'el paso'):\n",
    "        return(search_el_paso(query))\n",
    "    elif (county == 'larimer'):\n",
    "        return(search_larimer(query))\n",
    "    elif (county == 'weld'):\n",
    "        return(search_weld(query))\n",
    "    data_set[county] = \"NULL\"\n",
    "    return(jsonify(data_set))\n",
    "\n",
    "\n",
    "\n",
    "\n",
    "\n",
    "@app.route('/search-property', methods=['GET'])\n",
    "def search_property():\n",
    "\n",
    "    number = random.randint(1, 100)  # Generate a random number between 1 and 100\n",
    "    return jsonify({'number': number})\n",
    "\n",
    "# The route() function of the Flask class is a decorator, \n",
    "# which tells the application which URL should call \n",
    "# the associated function.\n",
    "\n",
    "@app.route('/')\n",
    "# ‘/’ URL is bound with hello_world() function.\n",
    "def hello_world():\n",
    "    return 'Hello World'\n",
    "\n",
    "@app.route('/random', methods=['GET'])\n",
    "def random_number():\n",
    "    number = random.randint(1, 100)  # Generate a random number between 1 and 100\n",
    "    return jsonify({'number': number})\n",
    "\n",
    "# main driver function\n",
    "if __name__ == '__main__':\n",
    "\n",
    "    # run() method of Flask class runs the application \n",
    "    # on the local development server.\n",
    "    app.run()"
   ]
  },
  {
   "cell_type": "code",
   "execution_count": null,
   "id": "cc49df33-6013-408a-bcbd-1a9a64d9d0fd",
   "metadata": {},
   "outputs": [],
   "source": []
  },
  {
   "cell_type": "code",
   "execution_count": 15,
   "id": "c0fc8412-08bb-47fb-b09f-bf23d0ed6538",
   "metadata": {},
   "outputs": [],
   "source": []
  },
  {
   "cell_type": "code",
   "execution_count": 17,
   "id": "035f7ff9-4107-45c8-ba70-bc1d8c5f4fa0",
   "metadata": {},
   "outputs": [
    {
     "name": "stdout",
     "output_type": "stream",
     "text": [
      "{'detail0': {'Year': 2020, 'Type': 'property_type', 'Actual': 'actual', 'Assessed': 'assessed', 'Exempt': 'exempt'}, 'detail1': {'Year': 2021, 'Type': 'property_type', 'Actual': 'actual', 'Assessed': 'assessed', 'Exempt': 'exempt'}}\n"
     ]
    }
   ],
   "source": [
    "print(returnval)"
   ]
  },
  {
   "cell_type": "code",
   "execution_count": null,
   "id": "3296f28e-84a7-4483-ae80-8837d23ac583",
   "metadata": {},
   "outputs": [],
   "source": []
  }
 ],
 "metadata": {
  "kernelspec": {
   "display_name": "Python 3 (ipykernel)",
   "language": "python",
   "name": "python3"
  },
  "language_info": {
   "codemirror_mode": {
    "name": "ipython",
    "version": 3
   },
   "file_extension": ".py",
   "mimetype": "text/x-python",
   "name": "python",
   "nbconvert_exporter": "python",
   "pygments_lexer": "ipython3",
   "version": "3.12.7"
  }
 },
 "nbformat": 4,
 "nbformat_minor": 5
}
