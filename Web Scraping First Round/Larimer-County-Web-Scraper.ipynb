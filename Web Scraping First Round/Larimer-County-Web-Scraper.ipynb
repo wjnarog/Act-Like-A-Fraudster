{
 "cells": [
  {
   "cell_type": "code",
   "execution_count": 2,
   "metadata": {},
   "outputs": [],
   "source": [
    "from selenium import webdriver\n",
    "from selenium.webdriver.common.by import By\n",
    "from selenium.webdriver.common.keys import Keys\n",
    "from selenium.webdriver.support.ui import WebDriverWait\n",
    "from selenium.webdriver.support import expected_conditions as EC\n",
    "from bs4 import BeautifulSoup\n",
    "\n",
    "driver = webdriver.Chrome()\n",
    "driver.get(\"https://www.larimer.gov/treasurer/search\")\n",
    "\n",
    "# Input the address in the search field\n",
    "addressSearch = driver.find_element(By.XPATH, \"/html/body/div[1]/div[3]/div[3]/div/div/div[1]/div[1]/form/fieldset[2]/div[2]/input[1]\")\n",
    "addressSearch.send_keys('3501')\n",
    "\n",
    "# Input the address in the search field\n",
    "addressSearch = driver.find_element(By.XPATH, \"/html/body/div[1]/div[3]/div[3]/div/div/div[1]/div[1]/form/fieldset[2]/div[3]/input\")\n",
    "addressSearch.send_keys('Camelot')\n",
    "\n",
    "# Click the search button\n",
    "submit_button = driver.find_element(By.XPATH, \"/html/body/div[1]/div[3]/div[3]/div/div/div[1]/div[1]/form/div[2]/div[2]/input\")\n",
    "submit_button.click()\n",
    "\n",
    "driver.find_element(By.XPATH, \"//*[@id='detailModal']/div/div/div[2]/div/div/div[3]/div[2]/div[1]/table[1]\")\n",
    "\n",
    "# Get page source to parse the HTML after clicking the first row\n",
    "page_source = driver.page_source\n",
    "\n",
    "soup = BeautifulSoup(page_source, 'html.parser')"
   ]
  },
  {
   "cell_type": "markdown",
   "metadata": {},
   "source": [
    "**Tax Liabilities**"
   ]
  },
  {
   "cell_type": "code",
   "execution_count": 8,
   "metadata": {},
   "outputs": [
    {
     "name": "stdout",
     "output_type": "stream",
     "text": [
      "Table found\n",
      "Levied Taxes: None\n",
      "Non-Levied Taxes: None\n",
      "Fees: None\n",
      "Assessment Liens: None\n",
      "Total Tax Liability: None\n",
      "Tax Lien Status: None\n",
      "Certificate of Taxes Due - Issue Date: None\n"
     ]
    }
   ],
   "source": [
    "tables = soup.find_all('table', class_='table')\n",
    "if len(tables) > 2:\n",
    "    table = tables[2]\n",
    "    print(\"Table found\")  \n",
    "    \n",
    "    rows = table.find_all('tr')\n",
    "    for row in rows:\n",
    "        # Find all 'td' elements with the class 'text-right' in this row\n",
    "        tds = row.find_all('td', class_='text-right')\n",
    "        if tds:\n",
    "            label = tds[0].text.strip()\n",
    "            spans = tds.find()\n",
    "            value = tds[1].find_next_sibling('td')\n",
    "            print(f\"{label}: {value}\")\n",
    "\n",
    "else:\n",
    "    print(\"Table not found.\")"
   ]
  },
  {
   "cell_type": "code",
   "execution_count": null,
   "metadata": {},
   "outputs": [],
   "source": []
  }
 ],
 "metadata": {
  "kernelspec": {
   "display_name": "Python 3.11.9 64-bit",
   "language": "python",
   "name": "python3"
  },
  "language_info": {
   "codemirror_mode": {
    "name": "ipython",
    "version": 3
   },
   "file_extension": ".py",
   "mimetype": "text/x-python",
   "name": "python",
   "nbconvert_exporter": "python",
   "pygments_lexer": "ipython3",
   "version": "3.11.9"
  },
  "orig_nbformat": 4,
  "vscode": {
   "interpreter": {
    "hash": "aee8b7b246df8f9039afb4144a1f6fd8d2ca17a180786b69acc140d282b71a49"
   }
  }
 },
 "nbformat": 4,
 "nbformat_minor": 2
}
