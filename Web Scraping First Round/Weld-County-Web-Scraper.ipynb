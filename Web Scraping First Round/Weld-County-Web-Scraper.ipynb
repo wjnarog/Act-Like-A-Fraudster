{
 "cells": [
  {
   "cell_type": "code",
   "execution_count": 13,
   "metadata": {},
   "outputs": [],
   "source": [
    "from selenium import webdriver\n",
    "from selenium.webdriver.common.by import By\n",
    "from selenium.webdriver.common.keys import Keys\n",
    "from selenium.webdriver.support.ui import WebDriverWait\n",
    "from selenium.webdriver.support import expected_conditions as EC\n",
    "from bs4 import BeautifulSoup\n",
    "\n",
    "driver = webdriver.Chrome()\n",
    "driver.get(\"https://apps.weld.gov/propertyportal/\")\n",
    "\n",
    "# Input the address in the search field\n",
    "addressSearch = driver.find_element(By.XPATH, \"/html/body/div[1]/div[2]/form/input[1]\")\n",
    "addressSearch.send_keys('2121 21st Ave')\n",
    "\n",
    "# Click the search button\n",
    "submit_button = driver.find_element(By.XPATH, \"/html/body/div[1]/div[2]/form/input[2]\")\n",
    "submit_button.click()\n",
    "\n",
    "# Click the search button\n",
    "submit_button = driver.find_element(By.XPATH, \"/html/body/div[2]/div/div/div[2]/div[2]/div[7]/a\")\n",
    "submit_button.click()\n",
    "\n",
    "# Get page source to parse the HTML after clicking the first row\n",
    "page_source = driver.page_source\n",
    "\n",
    "# Optionally, use BeautifulSoup to parse the HTML for further scraping\n",
    "soup = BeautifulSoup(page_source, 'html.parser')"
   ]
  },
  {
   "cell_type": "markdown",
   "metadata": {},
   "source": [
    "**Taxes**"
   ]
  },
  {
   "cell_type": "code",
   "execution_count": 17,
   "metadata": {},
   "outputs": [
    {
     "name": "stdout",
     "output_type": "stream",
     "text": [
      "No table found with the specified class.\n"
     ]
    }
   ],
   "source": [
    "# Find the table by the class 'acctTable'\n",
    "table = soup.find('table', class_='acctTable')\n",
    "if table:\n",
    "    print(\"Table found.\")\n",
    "    # Find all rows in the table\n",
    "    rows = table.find_all('tr')\n",
    "    for row in rows:\n",
    "        # Extract data from each cell in the row\n",
    "        cells = row.find_all('td')\n",
    "        row_data = [cell.get_text(strip=True) for cell in cells]\n",
    "        print(row_data)\n",
    "else:\n",
    "    print(\"No table found with the specified class.\")\n",
    "\n"
   ]
  },
  {
   "cell_type": "code",
   "execution_count": null,
   "metadata": {},
   "outputs": [],
   "source": []
  }
 ],
 "metadata": {
  "kernelspec": {
   "display_name": "Python 3.11.9 64-bit",
   "language": "python",
   "name": "python3"
  },
  "language_info": {
   "codemirror_mode": {
    "name": "ipython",
    "version": 3
   },
   "file_extension": ".py",
   "mimetype": "text/x-python",
   "name": "python",
   "nbconvert_exporter": "python",
   "pygments_lexer": "ipython3",
   "version": "3.11.9"
  },
  "orig_nbformat": 4,
  "vscode": {
   "interpreter": {
    "hash": "aee8b7b246df8f9039afb4144a1f6fd8d2ca17a180786b69acc140d282b71a49"
   }
  }
 },
 "nbformat": 4,
 "nbformat_minor": 2
}
