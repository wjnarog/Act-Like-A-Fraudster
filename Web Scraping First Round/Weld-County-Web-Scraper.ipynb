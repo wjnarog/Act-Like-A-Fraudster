{
 "cells": [
  {
   "cell_type": "code",
   "execution_count": 27,
   "metadata": {},
   "outputs": [
    {
     "name": "stdout",
     "output_type": "stream",
     "text": [
      "Property Report\n",
      "<selenium.webdriver.remote.webelement.WebElement (session=\"d8f6b5f8524dc936eb17624f17587611\", element=\"f.AA72936E93B749F31BD6178CA8619B9B.d.33F146D9F23A8C08ECA58514E610A8F9.e.50\")>\n"
     ]
    }
   ],
   "source": [
    "from selenium import webdriver\n",
    "from selenium.webdriver.common.by import By\n",
    "from selenium.webdriver.common.keys import Keys\n",
    "from selenium.webdriver.support.ui import WebDriverWait\n",
    "from selenium.webdriver.support import expected_conditions as EC\n",
    "from bs4 import BeautifulSoup\n",
    "import time\n",
    "\n",
    "driver = webdriver.Chrome()\n",
    "driver.get(\"https://apps.weld.gov/propertyportal/\")\n",
    "\n",
    "# Input the address in the search field\n",
    "addressSearch = driver.find_element(By.XPATH, \"/html/body/div[1]/div[2]/form/input[1]\")\n",
    "addressSearch.send_keys('2121 21st Ave')\n",
    "\n",
    "# Click the search button\n",
    "submit_button = driver.find_element(By.XPATH, \"/html/body/div[1]/div[2]/form/input[2]\")\n",
    "submit_button.click()\n",
    "\n",
    "# Click the search button\n",
    "submit_button = driver.find_element(By.XPATH, \"/html/body/div[2]/div/div/div[2]/div[2]/div[7]/a\")\n",
    "submit_button.click()\n",
    "\n",
    "time.sleep(1)\n",
    "windows = driver.window_handles\n",
    "driver.switch_to.window(windows[-1])\n",
    "\n",
    "# Get page source to parse the HTML after clicking the first row\n",
    "page_source = driver.page_source\n",
    "print(driver.title)\n",
    "result = driver.execute_script(\"return document.querySelector('table.acctTable');\")\n",
    "print(result)\n",
    "\n",
    "\n",
    "soup = BeautifulSoup(page_source, 'html.parser')"
   ]
  },
  {
   "cell_type": "markdown",
   "metadata": {},
   "source": [
    "**Taxes**"
   ]
  },
  {
   "cell_type": "code",
   "execution_count": 28,
   "metadata": {},
   "outputs": [
    {
     "name": "stdout",
     "output_type": "stream",
     "text": [
      "<tr class=\"myHead\">\n",
      "<th scope=\"col\">Account</th>\n",
      "<th scope=\"col\">Parcel</th>\n",
      "<th scope=\"col\">Space</th>\n",
      "<th scope=\"col\">Account Type</th>\n",
      "<th scope=\"col\">Tax Year</th>\n",
      "<th scope=\"col\">Buildings</th>\n",
      "<th scope=\"col\">Actual Value</th>\n",
      "<th scope=\"col\">Assessed Value</th>\n",
      "</tr>\n",
      "<tr>\n",
      "<td data-label=\"Account\">R3576286</td>\n",
      "<td data-label=\"Parcel\">096118208008</td>\n",
      "<td data-label=\"Space\"></td>\n",
      "<td data-label=\"Account Type\">Residential</td>\n",
      "<td data-label=\"Tax Year\">2025</td>\n",
      "<td data-label=\"Buildings\">1</td>\n",
      "<td data-label=\"Actual Value\"><span class=\"textright fullWidth\">434,896</span></td>\n",
      "<td data-label=\"Assessed Value\"><span class=\"textright fullWidth\">29,140</span></td>\n",
      "</tr>\n"
     ]
    }
   ],
   "source": [
    "# Find the table with the specific class\n",
    "table = soup.find(lambda tag: tag.name=='table' and tag.has_attr('class') and 'acctTable' in tag['class'])\n",
    "\n",
    "# Check if the table was found\n",
    "if table is not None:\n",
    "    # Find all row tags within the table\n",
    "    rows = table.find_all('tr')  # Using 'find_all' instead of 'findAll' (both are valid, but 'find_all' is more conventional in newer BS4 versions)\n",
    "    # You can now work with 'rows', for example, print them\n",
    "    for row in rows:\n",
    "        print(row)\n",
    "else:\n",
    "    print(\"No table found with class 'taxInformation'\")\n"
   ]
  }
 ],
 "metadata": {
  "kernelspec": {
   "display_name": "Python 3.11.9 64-bit",
   "language": "python",
   "name": "python3"
  },
  "language_info": {
   "codemirror_mode": {
    "name": "ipython",
    "version": 3
   },
   "file_extension": ".py",
   "mimetype": "text/x-python",
   "name": "python",
   "nbconvert_exporter": "python",
   "pygments_lexer": "ipython3",
   "version": "3.11.9"
  },
  "orig_nbformat": 4,
  "vscode": {
   "interpreter": {
    "hash": "aee8b7b246df8f9039afb4144a1f6fd8d2ca17a180786b69acc140d282b71a49"
   }
  }
 },
 "nbformat": 4,
 "nbformat_minor": 2
}
