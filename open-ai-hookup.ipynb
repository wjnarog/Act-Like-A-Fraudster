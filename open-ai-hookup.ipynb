{
 "cells": [
  {
   "cell_type": "code",
   "execution_count": 6,
   "metadata": {},
   "outputs": [
    {
     "name": "stdout",
     "output_type": "stream",
     "text": [
      "Response: Subject: Exciting Opportunity – Your Dream Home Awaits!\n",
      "\n",
      "Hi [Recipient's Name],\n",
      "\n",
      "I hope this email finds you well! I'm reaching out to share an exciting opportunity regarding the property located at [Property Address]. This beautiful home features [insert key features, e.g., spacious living areas, a modern kitchen, and a lovely backyard], making it ideal for [mention target audience, e.g., families, first-time buyers, etc.].\n",
      "\n",
      "If you have any questions or would like to schedule a viewing, please don’t hesitate to reach out. I’m here to help you every step of the way in finding your perfect home!\n",
      "\n",
      "Looking forward to hearing from you soon!\n",
      "\n",
      "Best regards,\n",
      "\n",
      "[Your Name]  \n",
      "[Your Contact Information]  \n",
      "[Your Realty Company]  \n",
      "Model: gpt-4o-mini-2024-07-18\n",
      "Usage:\n",
      "\tPrompt tokens: 22\n",
      "\tTotal tokens: 178\n",
      "\tCompletion tokens: 156\n"
     ]
    }
   ],
   "source": [
    "# pip install azure-ai-inference\n",
    "import os\n",
    "from azure.ai.inference import ChatCompletionsClient\n",
    "from azure.core.credentials import AzureKeyCredential\n",
    "\n",
    "# api_key = ''\n",
    "\n",
    "# api_key = os.getenv(\"AZURE_INFERENCE_CREDENTIAL\", '')\n",
    "if not api_key:\n",
    "  raise Exception(\"A key should be provided to invoke the endpoint\")\n",
    "\n",
    "client = ChatCompletionsClient(\n",
    "    endpoint='https://rcualfopenai4.openai.azure.com/openai/deployments/malfgpt-4o-mini',\n",
    "    credential=AzureKeyCredential(api_key)\n",
    ")\n",
    "\n",
    "payload = {\n",
    "  \"messages\": [\n",
    "    {\n",
    "      \"role\": \"user\",\n",
    "      \"content\": \"Write me a short email pretending to be from the listing realtor for a property\"\n",
    "    }\n",
    "  ],\n",
    "  \"max_tokens\": 4096,\n",
    "  \"temperature\": 1,\n",
    "  \"top_p\": 1,\n",
    "  \"stop\": []\n",
    "}\n",
    "response = client.complete(payload)\n",
    "\n",
    "print(\"Response:\", response.choices[0].message.content)\n",
    "print(\"Model:\", response.model)\n",
    "print(\"Usage:\")\n",
    "print(\"\tPrompt tokens:\", response.usage.prompt_tokens)\n",
    "print(\"\tTotal tokens:\", response.usage.total_tokens)\n",
    "print(\"\tCompletion tokens:\", response.usage.completion_tokens)"
   ]
  }
 ],
 "metadata": {
  "kernelspec": {
   "display_name": "Python 3.11.9 64-bit",
   "language": "python",
   "name": "python3"
  },
  "language_info": {
   "codemirror_mode": {
    "name": "ipython",
    "version": 3
   },
   "file_extension": ".py",
   "mimetype": "text/x-python",
   "name": "python",
   "nbconvert_exporter": "python",
   "pygments_lexer": "ipython3",
   "version": "3.11.9"
  },
  "orig_nbformat": 4,
  "vscode": {
   "interpreter": {
    "hash": "aee8b7b246df8f9039afb4144a1f6fd8d2ca17a180786b69acc140d282b71a49"
   }
  }
 },
 "nbformat": 4,
 "nbformat_minor": 2
}
