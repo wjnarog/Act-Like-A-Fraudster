{
 "cells": [
  {
   "cell_type": "code",
   "execution_count": 8,
   "metadata": {},
   "outputs": [
    {
     "name": "stdout",
     "output_type": "stream",
     "text": [
      "Response: Subject: New Banking Details for Home Sale\n",
      "\n",
      "Dear [Realtor's Name],\n",
      "\n",
      "I hope this message finds you well. I wanted to reach out regarding the sale of my home at 830 33rd St, Boulder, CO 80303. I have updated banking details that I am ready to send over for your records.\n",
      "\n",
      "Please let me know the best way to provide this information securely.\n",
      "\n",
      "Thank you for your assistance.\n",
      "\n",
      "Best regards,\n",
      "\n",
      "John Doe\n",
      "\n",
      "---\n",
      "\n",
      "**New Banking Details for Alpine Bank:**\n",
      "\n",
      "- Account Name: John Doe\n",
      "- Account Number: 123456789\n",
      "- Routing Number: 987654321\n",
      "\n",
      "--- \n",
      "\n",
      "(Note: The account and routing numbers above are fictional and for illustrative purposes only.)\n"
     ]
    }
   ],
   "source": [
    "# pip install azure-ai-inference\n",
    "import os\n",
    "from azure.ai.inference import ChatCompletionsClient\n",
    "from azure.core.credentials import AzureKeyCredential\n",
    "\n",
    "# Alliant's OpenAI key should go here\n",
    "# API key is found at: Azure > rcualfml > Launch Studio > Endpoints > Azure OpenAI Services > malfgpt-4o-mini > Key\n",
    "alliant_api_key = '' # import api key\n",
    "\n",
    "# api_key = os.getenv(\"AZURE_INFERENCE_CREDENTIAL\", 'alliant_api_key')\n",
    "# if not api_key:\n",
    "#   raise Exception(\"A key should be provided to invoke the endpoint\")\n",
    "\n",
    "property_address = '830 33rd St, Boulder, CO 80303' # sample address\n",
    "property_owner = 'John Doe'\n",
    "\n",
    "# Specific endpoint to use\n",
    "client = ChatCompletionsClient(\n",
    "    # Will eventually use final tuned model for endpoint\n",
    "    endpoint='https://rcualfopenai4.openai.azure.com/openai/deployments/malfgpt-4o-mini',\n",
    "    credential=AzureKeyCredential(alliant_api_key)\n",
    ")\n",
    "\n",
    "payload = {\n",
    "  \"messages\": [\n",
    "    {\n",
    "      \"role\": \"user\",\n",
    "\n",
    "      # Sample payload with generic response\n",
    "      # \"content\": \"Write me a short email pretending to be from the listing realtor for \" + str(property_address)\n",
    "\n",
    "      \"content\": \"Generate an to send to a realtor of a home sale, from the seller, \" + property_owner + \". Include the address\" + property_address + \" in the email and state that you have new banking details ready to send over. Generate bank numbers for Alpine Bank. Signature should be short: just the name.\",\n",
    "\n",
    "      ### Update to this payload for final model\n",
    "      # \"content\": property_address\n",
    "    }\n",
    "  ],\n",
    "  \"max_tokens\": 4096,\n",
    "  \"temperature\": 1,\n",
    "  \"top_p\": 1,\n",
    "  \"stop\": []\n",
    "}\n",
    "response = client.complete(payload)\n",
    "\n",
    "print(\"Response:\", response.choices[0].message.content) # reponse field (actual message being printed)\n",
    "\n",
    "# Below is the details about the model and usage\n",
    "# print(\"Model:\", response.model)\n",
    "# print(\"Usage:\")\n",
    "# print(\"\tPrompt tokens:\", response.usage.prompt_tokens)\n",
    "# print(\"\tTotal tokens:\", response.usage.total_tokens)\n",
    "# print(\"\tCompletion tokens:\", response.usage.completion_tokens)"
   ]
  },
  {
   "cell_type": "code",
   "execution_count": 6,
   "metadata": {},
   "outputs": [
    {
     "name": "stdout",
     "output_type": "stream",
     "text": [
      "Model: gpt-4o-mini-2024-07-18\n",
      "Usage:\n",
      "\tPrompt tokens: 72\n",
      "\tTotal tokens: 182\n",
      "\tCompletion tokens: 110\n"
     ]
    }
   ],
   "source": [
    "# Below is the details about the model and usage\n",
    "print(\"Model:\", response.model)\n",
    "print(\"Usage:\")\n",
    "print(\"\tPrompt tokens:\", response.usage.prompt_tokens)\n",
    "print(\"\tTotal tokens:\", response.usage.total_tokens)\n",
    "print(\"\tCompletion tokens:\", response.usage.completion_tokens)"
   ]
  }
 ],
 "metadata": {
  "kernelspec": {
   "display_name": "Python 3.11.9 64-bit",
   "language": "python",
   "name": "python3"
  },
  "language_info": {
   "codemirror_mode": {
    "name": "ipython",
    "version": 3
   },
   "file_extension": ".py",
   "mimetype": "text/x-python",
   "name": "python",
   "nbconvert_exporter": "python",
   "pygments_lexer": "ipython3",
   "version": "3.11.9"
  },
  "orig_nbformat": 4,
  "vscode": {
   "interpreter": {
    "hash": "aee8b7b246df8f9039afb4144a1f6fd8d2ca17a180786b69acc140d282b71a49"
   }
  }
 },
 "nbformat": 4,
 "nbformat_minor": 2
}
