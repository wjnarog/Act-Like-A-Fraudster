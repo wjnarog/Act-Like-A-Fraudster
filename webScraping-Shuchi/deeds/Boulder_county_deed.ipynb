{
 "cells": [
  {
   "cell_type": "code",
   "execution_count": 4,
   "metadata": {},
   "outputs": [
    {
     "name": "stdout",
     "output_type": "stream",
     "text": [
      "Requirement already satisfied: selenium in /home/shuchi/.venvs/myenv/lib/python3.12/site-packages (4.27.1)\n",
      "Requirement already satisfied: urllib3<3,>=1.26 in /home/shuchi/.venvs/myenv/lib/python3.12/site-packages (from urllib3[socks]<3,>=1.26->selenium) (2.3.0)\n",
      "Requirement already satisfied: trio~=0.17 in /home/shuchi/.venvs/myenv/lib/python3.12/site-packages (from selenium) (0.28.0)\n",
      "Requirement already satisfied: trio-websocket~=0.9 in /home/shuchi/.venvs/myenv/lib/python3.12/site-packages (from selenium) (0.11.1)\n",
      "Requirement already satisfied: certifi>=2021.10.8 in /home/shuchi/.venvs/myenv/lib/python3.12/site-packages (from selenium) (2024.12.14)\n",
      "Requirement already satisfied: typing_extensions~=4.9 in /home/shuchi/.venvs/myenv/lib/python3.12/site-packages (from selenium) (4.12.2)\n",
      "Requirement already satisfied: websocket-client~=1.8 in /home/shuchi/.venvs/myenv/lib/python3.12/site-packages (from selenium) (1.8.0)\n",
      "Requirement already satisfied: attrs>=23.2.0 in /home/shuchi/.venvs/myenv/lib/python3.12/site-packages (from trio~=0.17->selenium) (24.3.0)\n",
      "Requirement already satisfied: sortedcontainers in /home/shuchi/.venvs/myenv/lib/python3.12/site-packages (from trio~=0.17->selenium) (2.4.0)\n",
      "Requirement already satisfied: idna in /home/shuchi/.venvs/myenv/lib/python3.12/site-packages (from trio~=0.17->selenium) (3.10)\n",
      "Requirement already satisfied: outcome in /home/shuchi/.venvs/myenv/lib/python3.12/site-packages (from trio~=0.17->selenium) (1.3.0.post0)\n",
      "Requirement already satisfied: sniffio>=1.3.0 in /home/shuchi/.venvs/myenv/lib/python3.12/site-packages (from trio~=0.17->selenium) (1.3.1)\n",
      "Requirement already satisfied: wsproto>=0.14 in /home/shuchi/.venvs/myenv/lib/python3.12/site-packages (from trio-websocket~=0.9->selenium) (1.2.0)\n",
      "Requirement already satisfied: pysocks!=1.5.7,<2.0,>=1.5.6 in /home/shuchi/.venvs/myenv/lib/python3.12/site-packages (from urllib3[socks]<3,>=1.26->selenium) (1.7.1)\n",
      "Requirement already satisfied: h11<1,>=0.9.0 in /home/shuchi/.venvs/myenv/lib/python3.12/site-packages (from wsproto>=0.14->trio-websocket~=0.9->selenium) (0.14.0)\n",
      "Requirement already satisfied: beautifulsoup4 in /home/shuchi/.venvs/myenv/lib/python3.12/site-packages (4.12.3)\n",
      "Requirement already satisfied: soupsieve>1.2 in /home/shuchi/.venvs/myenv/lib/python3.12/site-packages (from beautifulsoup4) (2.6)\n"
     ]
    }
   ],
   "source": [
    "!pip install selenium\n",
    "!pip install beautifulsoup4 "
   ]
  },
  {
   "cell_type": "code",
   "execution_count": 5,
   "metadata": {},
   "outputs": [],
   "source": [
    "from selenium import webdriver\n",
    "from selenium.webdriver.common.by import By\n",
    "from selenium.webdriver.common.keys import Keys\n",
    "from selenium.webdriver.support.ui import WebDriverWait\n",
    "from selenium.webdriver.support import expected_conditions as EC\n",
    "from bs4 import BeautifulSoup\n",
    "\n",
    "\n",
    "def process_reception_number_Boulder(reception_number):\n",
    "    # Initialize the WebDriver\n",
    "    driver = webdriver.Chrome()\n",
    "    driver.get(\"https://boulder.co.publicsearch.us/\")\n",
    "\n",
    "    # Locate the search box and enter the search term\n",
    "    search_box = driver.find_element(\n",
    "        By.CSS_SELECTOR, '[data-testid=\"searchInputBox\"]')\n",
    "    \n",
    "    reception_number = str(reception_number).zfill(8)\n",
    "    search_box.send_keys(reception_number)\n",
    "    search_box.send_keys(Keys.RETURN)\n",
    "\n",
    "    # Wait for the page to load after submitting the search\n",
    "    WebDriverWait(driver, 10).until(\n",
    "        EC.presence_of_element_located((By.TAG_NAME, 'tfoot'))\n",
    "    )\n",
    "\n",
    "    # Locate the specific row using the unique identifier\n",
    "    row = driver.find_element(\n",
    "        By.XPATH, f'//tr[contains(., \"{reception_number}\")]')\n",
    "\n",
    "    # Click anywhere on the row\n",
    "    row.click()\n",
    "\n",
    "    # Wait for the image to load\n",
    "    WebDriverWait(driver, 10).until(\n",
    "        EC.presence_of_element_located((By.TAG_NAME, 'image'))\n",
    "    )\n",
    "\n",
    "    # Parse the page source with BeautifulSoup\n",
    "    soup = BeautifulSoup(driver.page_source, \"html.parser\")\n",
    "\n",
    "    # Locate the <image> tag and extract the xlink:href attribute\n",
    "    image_tag = soup.find(\"image\", {\"class\": \"css-1tazvte\"})\n",
    "    if image_tag:\n",
    "        href = image_tag.get(\"xlink:href\")\n",
    "        print(\"Deed Link:\", href)\n",
    "    else:\n",
    "        print(\"Image tag not found.\")\n",
    "\n",
    "    # Close the WebDriver\n",
    "    driver.close()"
   ]
  },
  {
   "cell_type": "code",
   "execution_count": 6,
   "metadata": {},
   "outputs": [
    {
     "name": "stdout",
     "output_type": "stream",
     "text": [
      "Deed Link: https://boulder.co.publicsearch.us/files/documents/186318518/images/176048891_1.png\n"
     ]
    }
   ],
   "source": [
    "reception_number = 3380362\n",
    "process_reception_number_Boulder(reception_number)"
   ]
  }
 ],
 "metadata": {
  "kernelspec": {
   "display_name": "myenv",
   "language": "python",
   "name": "python3"
  },
  "language_info": {
   "codemirror_mode": {
    "name": "ipython",
    "version": 3
   },
   "file_extension": ".py",
   "mimetype": "text/x-python",
   "name": "python",
   "nbconvert_exporter": "python",
   "pygments_lexer": "ipython3",
   "version": "3.12.3"
  }
 },
 "nbformat": 4,
 "nbformat_minor": 2
}
