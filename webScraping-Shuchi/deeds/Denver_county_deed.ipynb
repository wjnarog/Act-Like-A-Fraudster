{
 "cells": [
  {
   "cell_type": "code",
   "execution_count": null,
   "metadata": {},
   "outputs": [],
   "source": [
    "!pip install selenium\n",
    "!pip install beautifulsoup4 "
   ]
  },
  {
   "cell_type": "code",
   "execution_count": 62,
   "metadata": {},
   "outputs": [],
   "source": [
    "from selenium import webdriver\n",
    "from selenium.webdriver.common.by import By\n",
    "from selenium.webdriver.support.ui import WebDriverWait\n",
    "from selenium.webdriver.support import expected_conditions as EC\n",
    "import time\n",
    "\n",
    "# Initialize the WebDriver\n",
    "driver = webdriver.Chrome()\n",
    "\n",
    "# Open the webpage\n",
    "driver.get(\n",
    "    \"https://countyfusion3.govos.com/countyweb/loginDisplay.action?countyname=Denver\")\n",
    "\n",
    "# Wait for the \"Search Records as Guest\" button to be clickable\n",
    "try:\n",
    "    # Locate the button using its value attribute\n",
    "    search_button = WebDriverWait(driver, 10).until(\n",
    "        EC.element_to_be_clickable(\n",
    "            (By.XPATH, \"//input[@value=' Search Records as Guest']\"))\n",
    "    )\n",
    "\n",
    "    # Click the button\n",
    "    search_button.click()\n",
    "\n",
    "except Exception as e:\n",
    "    print(f\"An error occurred while clicking 'Search Records as Guest': {e}\")"
   ]
  },
  {
   "cell_type": "code",
   "execution_count": 69,
   "metadata": {},
   "outputs": [
    {
     "name": "stdout",
     "output_type": "stream",
     "text": [
      "Error clicking the 'Accept' button: Message: no such element: Unable to locate element: {\"method\":\"xpath\",\"selector\":\"//input[@value='Accept']\"}\n",
      "  (Session info: chrome=134.0.6998.88); For documentation on this error, please visit: https://www.selenium.dev/documentation/webdriver/troubleshooting/errors#no-such-element-exception\n",
      "Stacktrace:\n",
      "#0 0x55b91a54da1a <unknown>\n",
      "#1 0x55b91a005390 <unknown>\n",
      "#2 0x55b91a056c85 <unknown>\n",
      "#3 0x55b91a056eb1 <unknown>\n",
      "#4 0x55b91a0a5d64 <unknown>\n",
      "#5 0x55b91a07cbfd <unknown>\n",
      "#6 0x55b91a0a307b <unknown>\n",
      "#7 0x55b91a07c9a3 <unknown>\n",
      "#8 0x55b91a04860e <unknown>\n",
      "#9 0x55b91a049dd1 <unknown>\n",
      "#10 0x55b91a513ddb <unknown>\n",
      "#11 0x55b91a517cbc <unknown>\n",
      "#12 0x55b91a4fb392 <unknown>\n",
      "#13 0x55b91a518834 <unknown>\n",
      "#14 0x55b91a4df1ef <unknown>\n",
      "#15 0x55b91a53c038 <unknown>\n",
      "#16 0x55b91a53c216 <unknown>\n",
      "#17 0x55b91a54c896 <unknown>\n",
      "#18 0x7f70a91b8aa4 <unknown>\n",
      "#19 0x7f70a9245c3c <unknown>\n",
      "\n"
     ]
    }
   ],
   "source": [
    "from selenium import webdriver\n",
    "from selenium.webdriver.common.by import By\n",
    "from selenium.webdriver.support.ui import WebDriverWait\n",
    "from selenium.webdriver.support import expected_conditions as EC\n",
    "from bs4 import BeautifulSoup\n",
    "\n",
    "# Initialize the WebDriver\n",
    "driver = webdriver.Chrome()\n",
    "\n",
    "# Open the webpage\n",
    "driver.get(\n",
    "    \"https://countyfusion3.govos.com/countyweb/loginDisplay.action?countyname=Denver\")\n",
    "\n",
    "# Wait for the \"Search Records as Guest\" button to be clickable and click it\n",
    "try:\n",
    "    search_button = WebDriverWait(driver, 10).until(\n",
    "        EC.element_to_be_clickable(\n",
    "            (By.XPATH, \"//input[@value=' Search Records as Guest']\"))\n",
    "    )\n",
    "    search_button.click()\n",
    "except Exception as e:\n",
    "    print(f\"An error occurred while clicking 'Search Records as Guest': {e}\")\n",
    "\n",
    "try:\n",
    "    # Wait until the \"Accept\" button is clickable\n",
    "    accept_button = driver.find_element(By.XPATH, \"//input[@value='Accept']\")\n",
    "    driver.execute_script(\"arguments[0].scrollIntoView();\", accept_button)\n",
    "    accept_button.click()\n",
    "    print(\"Clicked the 'Accept' button.\")\n",
    "except Exception as e:\n",
    "    print(f\"Error clicking the 'Accept' button: {e}\")\n",
    "\n",
    "\n",
    "# Close the WebDriver (optional, depending on your use case)\n",
    "# driver.quit()"
   ]
  },
  {
   "cell_type": "code",
   "execution_count": 63,
   "metadata": {},
   "outputs": [
    {
     "name": "stdout",
     "output_type": "stream",
     "text": [
      "Clicked the 'X' button.\n"
     ]
    }
   ],
   "source": [
    "# Locate and click the \"X\" button\n",
    "try:\n",
    "    # Wait until the \"X\" button is clickable\n",
    "    close_button = WebDriverWait(driver, 10).until(\n",
    "        EC.element_to_be_clickable(\n",
    "            (By.XPATH, \"//img[@src='/countyweb/images/icons/close.gif']\"))\n",
    "    )\n",
    "    close_button.click()\n",
    "    print(\"Clicked the 'X' button.\")\n",
    "except Exception as e:\n",
    "    print(f\"Error clicking the 'X' button: {e}\")"
   ]
  },
  {
   "cell_type": "code",
   "execution_count": null,
   "metadata": {},
   "outputs": [],
   "source": [
    "# Locate and click the \"Reception Number\" element"
   ]
  },
  {
   "cell_type": "code",
   "execution_count": null,
   "metadata": {},
   "outputs": [],
   "source": [
    "try:\n",
    "    # Wait until the text box is present\n",
    "    text_box = WebDriverWait(driver, 10).until(\n",
    "        EC.presence_of_element_located((By.ID, \"_easyui_textbox_input1\"))\n",
    "    )\n",
    "\n",
    "\n",
    "    reception_number = \"2024019567\" \n",
    "    text_box.send_keys(reception_number)\n",
    "\n",
    "    # Simulate pressing the \"Enter\" key\n",
    "    text_box.send_keys(Keys.RETURN)\n",
    "    print(f\"Entered text '{reception_number}' and pressed Enter.\")\n",
    "except Exception as e:\n",
    "    print(f\"Error interacting with the text box: {e}\")"
   ]
  },
  {
   "cell_type": "code",
   "execution_count": 58,
   "metadata": {},
   "outputs": [
    {
     "name": "stdout",
     "output_type": "stream",
     "text": [
      "Error clicking the link: Message: \n",
      "Stacktrace:\n",
      "#0 0x55a9e15faa1a <unknown>\n",
      "#1 0x55a9e10b2390 <unknown>\n",
      "#2 0x55a9e1103c85 <unknown>\n",
      "#3 0x55a9e1103eb1 <unknown>\n",
      "#4 0x55a9e1152d64 <unknown>\n",
      "#5 0x55a9e1129bfd <unknown>\n",
      "#6 0x55a9e115007b <unknown>\n",
      "#7 0x55a9e11299a3 <unknown>\n",
      "#8 0x55a9e10f560e <unknown>\n",
      "#9 0x55a9e10f6dd1 <unknown>\n",
      "#10 0x55a9e15c0ddb <unknown>\n",
      "#11 0x55a9e15c4cbc <unknown>\n",
      "#12 0x55a9e15a8392 <unknown>\n",
      "#13 0x55a9e15c5834 <unknown>\n",
      "#14 0x55a9e158c1ef <unknown>\n",
      "#15 0x55a9e15e9038 <unknown>\n",
      "#16 0x55a9e15e9216 <unknown>\n",
      "#17 0x55a9e15f9896 <unknown>\n",
      "#18 0x7efc22ff3aa4 <unknown>\n",
      "#19 0x7efc23080c3c <unknown>\n",
      "\n"
     ]
    }
   ],
   "source": [
    "try:\n",
    "    # Wait until the link is clickable\n",
    "    link = WebDriverWait(driver, 10).until(\n",
    "        EC.element_to_be_clickable((By.ID, \"inst0\"))\n",
    "    )\n",
    "    link.click()\n",
    "    print(\"Clicked the link with text '2024019567'.\")\n",
    "except Exception as e:\n",
    "    print(f\"Error clicking the link: {e}\")"
   ]
  },
  {
   "cell_type": "code",
   "execution_count": null,
   "metadata": {},
   "outputs": [],
   "source": []
  },
  {
   "cell_type": "code",
   "execution_count": null,
   "metadata": {},
   "outputs": [
    {
     "name": "stdout",
     "output_type": "stream",
     "text": [
      "An error occurred while interacting with the 'Accept' button: Message: \n",
      "Stacktrace:\n",
      "#0 0x5590b8a8aa1a <unknown>\n",
      "#1 0x5590b8542390 <unknown>\n",
      "#2 0x5590b8593c85 <unknown>\n",
      "#3 0x5590b8593eb1 <unknown>\n",
      "#4 0x5590b85e2d64 <unknown>\n",
      "#5 0x5590b85b9bfd <unknown>\n",
      "#6 0x5590b85e007b <unknown>\n",
      "#7 0x5590b85b99a3 <unknown>\n",
      "#8 0x5590b858560e <unknown>\n",
      "#9 0x5590b8586dd1 <unknown>\n",
      "#10 0x5590b8a50ddb <unknown>\n",
      "#11 0x5590b8a54cbc <unknown>\n",
      "#12 0x5590b8a38392 <unknown>\n",
      "#13 0x5590b8a55834 <unknown>\n",
      "#14 0x5590b8a1c1ef <unknown>\n",
      "#15 0x5590b8a79038 <unknown>\n",
      "#16 0x5590b8a79216 <unknown>\n",
      "#17 0x5590b8a89896 <unknown>\n",
      "#18 0x7f59fb140aa4 <unknown>\n",
      "#19 0x7f59fb1cdc3c <unknown>\n",
      "\n"
     ]
    }
   ],
   "source": [
    "from bs4 import BeautifulSoup\n",
    "time.sleep(5)\n",
    "page_source = driver.page_source\n",
    "soup = BeautifulSoup(page_source, \"html.parser\")\n",
    "print(soup.prettify())\n",
    "# # Locate the <img> element and print its src attribute\n",
    "# try:\n",
    "#     img_element = soup.find(\"img\", id=\"mainCropperImage\")\n",
    "#     if img_element:\n",
    "#         img_src = img_element.get(\"src\")\n",
    "#         print(f\"The image source link is: {img_src}\")\n",
    "#     else:\n",
    "#         print(\"The <img> element with id 'mainCropperImage' was not found.\")\n",
    "# except Exception as e:\n",
    "#     print(\n",
    "#         f\"Error parsing the page source or retrieving the src attribute: {e}\")\n",
    "\n",
    "# # Wait for a few seconds to observe the results\n",
    "\n",
    "\n",
    "# Close the browser\n",
    "# driver.quit()"
   ]
  },
  {
   "cell_type": "code",
   "execution_count": null,
   "metadata": {},
   "outputs": [],
   "source": []
  }
 ],
 "metadata": {
  "kernelspec": {
   "display_name": "myenv",
   "language": "python",
   "name": "python3"
  },
  "language_info": {
   "codemirror_mode": {
    "name": "ipython",
    "version": 3
   },
   "file_extension": ".py",
   "mimetype": "text/x-python",
   "name": "python",
   "nbconvert_exporter": "python",
   "pygments_lexer": "ipython3",
   "version": "3.12.3"
  }
 },
 "nbformat": 4,
 "nbformat_minor": 2
}
