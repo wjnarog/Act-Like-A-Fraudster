{
 "cells": [
  {
   "cell_type": "code",
   "execution_count": 78,
   "metadata": {},
   "outputs": [
    {
     "name": "stdout",
     "output_type": "stream",
     "text": [
      "Requirement already satisfied: requests in c:\\users\\rubba\\appdata\\local\\programs\\python\\python310\\lib\\site-packages (2.32.3)\n",
      "Requirement already satisfied: urllib3<3,>=1.21.1 in c:\\users\\rubba\\appdata\\local\\programs\\python\\python310\\lib\\site-packages (from requests) (2.3.0)\n",
      "Requirement already satisfied: certifi>=2017.4.17 in c:\\users\\rubba\\appdata\\local\\programs\\python\\python310\\lib\\site-packages (from requests) (2024.12.14)\n",
      "Requirement already satisfied: charset-normalizer<4,>=2 in c:\\users\\rubba\\appdata\\local\\programs\\python\\python310\\lib\\site-packages (from requests) (3.4.1)\n",
      "Requirement already satisfied: idna<4,>=2.5 in c:\\users\\rubba\\appdata\\local\\programs\\python\\python310\\lib\\site-packages (from requests) (3.10)\n"
     ]
    },
    {
     "name": "stderr",
     "output_type": "stream",
     "text": [
      "\n",
      "[notice] A new release of pip available: 22.2.1 -> 24.3.1\n",
      "[notice] To update, run: python.exe -m pip install --upgrade pip\n"
     ]
    },
    {
     "name": "stdout",
     "output_type": "stream",
     "text": [
      "Requirement already satisfied: lxml in c:\\users\\rubba\\appdata\\local\\programs\\python\\python310\\lib\\site-packages (5.3.0)\n"
     ]
    },
    {
     "name": "stderr",
     "output_type": "stream",
     "text": [
      "\n",
      "[notice] A new release of pip available: 22.2.1 -> 24.3.1\n",
      "[notice] To update, run: python.exe -m pip install --upgrade pip\n"
     ]
    },
    {
     "name": "stdout",
     "output_type": "stream",
     "text": [
      "Requirement already satisfied: beautifulsoup4 in c:\\users\\rubba\\appdata\\local\\programs\\python\\python310\\lib\\site-packages (4.12.3)\n",
      "Requirement already satisfied: soupsieve>1.2 in c:\\users\\rubba\\appdata\\local\\programs\\python\\python310\\lib\\site-packages (from beautifulsoup4) (2.6)\n"
     ]
    },
    {
     "name": "stderr",
     "output_type": "stream",
     "text": [
      "\n",
      "[notice] A new release of pip available: 22.2.1 -> 24.3.1\n",
      "[notice] To update, run: python.exe -m pip install --upgrade pip\n"
     ]
    },
    {
     "name": "stdout",
     "output_type": "stream",
     "text": [
      "Requirement already satisfied: selenium in c:\\users\\rubba\\appdata\\local\\programs\\python\\python310\\lib\\site-packages (4.27.1)\n",
      "Requirement already satisfied: trio-websocket~=0.9 in c:\\users\\rubba\\appdata\\local\\programs\\python\\python310\\lib\\site-packages (from selenium) (0.11.1)\n",
      "Requirement already satisfied: typing_extensions~=4.9 in c:\\users\\rubba\\appdata\\roaming\\python\\python310\\site-packages (from selenium) (4.12.2)\n",
      "Requirement already satisfied: urllib3[socks]<3,>=1.26 in c:\\users\\rubba\\appdata\\local\\programs\\python\\python310\\lib\\site-packages (from selenium) (2.3.0)\n",
      "Requirement already satisfied: certifi>=2021.10.8 in c:\\users\\rubba\\appdata\\local\\programs\\python\\python310\\lib\\site-packages (from selenium) (2024.12.14)\n",
      "Requirement already satisfied: websocket-client~=1.8 in c:\\users\\rubba\\appdata\\local\\programs\\python\\python310\\lib\\site-packages (from selenium) (1.8.0)\n",
      "Requirement already satisfied: trio~=0.17 in c:\\users\\rubba\\appdata\\local\\programs\\python\\python310\\lib\\site-packages (from selenium) (0.28.0)\n",
      "Requirement already satisfied: idna in c:\\users\\rubba\\appdata\\local\\programs\\python\\python310\\lib\\site-packages (from trio~=0.17->selenium) (3.10)\n",
      "Requirement already satisfied: sniffio>=1.3.0 in c:\\users\\rubba\\appdata\\local\\programs\\python\\python310\\lib\\site-packages (from trio~=0.17->selenium) (1.3.1)\n",
      "Requirement already satisfied: cffi>=1.14 in c:\\users\\rubba\\appdata\\local\\programs\\python\\python310\\lib\\site-packages (from trio~=0.17->selenium) (1.17.1)\n",
      "Requirement already satisfied: attrs>=23.2.0 in c:\\users\\rubba\\appdata\\local\\programs\\python\\python310\\lib\\site-packages (from trio~=0.17->selenium) (24.3.0)\n",
      "Requirement already satisfied: outcome in c:\\users\\rubba\\appdata\\local\\programs\\python\\python310\\lib\\site-packages (from trio~=0.17->selenium) (1.3.0.post0)\n",
      "Requirement already satisfied: sortedcontainers in c:\\users\\rubba\\appdata\\local\\programs\\python\\python310\\lib\\site-packages (from trio~=0.17->selenium) (2.4.0)\n",
      "Requirement already satisfied: exceptiongroup in c:\\users\\rubba\\appdata\\roaming\\python\\python310\\site-packages (from trio~=0.17->selenium) (1.2.2)\n",
      "Requirement already satisfied: wsproto>=0.14 in c:\\users\\rubba\\appdata\\local\\programs\\python\\python310\\lib\\site-packages (from trio-websocket~=0.9->selenium) (1.2.0)\n",
      "Requirement already satisfied: pysocks!=1.5.7,<2.0,>=1.5.6 in c:\\users\\rubba\\appdata\\local\\programs\\python\\python310\\lib\\site-packages (from urllib3[socks]<3,>=1.26->selenium) (1.7.1)\n",
      "Requirement already satisfied: pycparser in c:\\users\\rubba\\appdata\\local\\programs\\python\\python310\\lib\\site-packages (from cffi>=1.14->trio~=0.17->selenium) (2.22)\n",
      "Requirement already satisfied: h11<1,>=0.9.0 in c:\\users\\rubba\\appdata\\local\\programs\\python\\python310\\lib\\site-packages (from wsproto>=0.14->trio-websocket~=0.9->selenium) (0.14.0)\n"
     ]
    },
    {
     "name": "stderr",
     "output_type": "stream",
     "text": [
      "\n",
      "[notice] A new release of pip available: 22.2.1 -> 24.3.1\n",
      "[notice] To update, run: python.exe -m pip install --upgrade pip\n"
     ]
    }
   ],
   "source": [
    "# Installs\n",
    "import sys\n",
    "!{sys.executable} -m pip install requests\n",
    "!{sys.executable} -m pip install lxml\n",
    "!{sys.executable} -m pip install beautifulsoup4\n",
    "!{sys.executable} -m pip install selenium"
   ]
  },
  {
   "cell_type": "code",
   "execution_count": null,
   "metadata": {},
   "outputs": [
    {
     "name": "stdout",
     "output_type": "stream",
     "text": [
      "Downloading https://services.boco.solutions/cpp_filenetclient/ContentDisplay.aspx?DocId={7CAC7CDB-9FCF-442F-A518-DC193F2CDF47}\n",
      "Downloading https://services.boco.solutions/cpp_filenetclient/ContentDisplay.aspx?DocId={4EAD8FDC-D02C-4799-8864-C79B461946F6}\n",
      "Downloading https://services.boco.solutions/cpp_filenetclient/ContentDisplay.aspx?DocId={10A895F9-BAC4-4506-96CA-3ABF5A9D5700}\n",
      "Downloading https://services.boco.solutions/cpp_filenetclient/ContentDisplay.aspx?DocId={692C8401-5A21-4C6A-8B6B-4928D222AD16}\n",
      "Downloading https://services.boco.solutions/cpp_filenetclient/ContentDisplay.aspx?DocId={036A9083-1C78-4B57-8B13-5B24E5122A64}\n",
      "Downloading https://services.boco.solutions/cpp_filenetclient/ContentDisplay.aspx?DocId={7D4FC1EE-4DF4-4504-A126-75982494A72F}\n",
      "Downloading https://services.boco.solutions/cpp_filenetclient/ContentDisplay.aspx?DocId={A5F2C4C9-A4E0-44A7-B9C8-AC5D2E3C71F5}\n",
      "Downloading https://services.boco.solutions/cpp_filenetclient/ContentDisplay.aspx?DocId={430CB06B-6A34-4F38-8E1D-EBE391AC11E5}\n",
      "Downloading https://services.boco.solutions/cpp_filenetclient/ContentDisplay.aspx?DocId={98E9A512-420B-44A3-A30D-9CFE85FD74D6}\n",
      "Downloading https://services.boco.solutions/cpp_filenetclient/ContentDisplay.aspx?DocId={584453D3-12D7-4E37-97E8-25A137145FA9}\n",
      "Downloading https://services.boco.solutions/cpp_filenetclient/ContentDisplay.aspx?DocId={D304EF87-F4BD-4886-832A-AE16C19686FE}\n",
      "Downloading https://services.boco.solutions/cpp_filenetclient/ContentDisplay.aspx?DocId={659E3483-CDE7-4207-B834-13F785265BDF}\n",
      "Downloading https://services.boco.solutions/cpp_filenetclient/ContentDisplay.aspx?DocId={29BED6F0-5575-4450-BC88-DA46BFD515FE}\n",
      "Downloading https://services.boco.solutions/cpp_filenetclient/ContentDisplay.aspx?DocId={D837275C-BB6A-43DB-8824-AB4C9564CCA6}\n",
      "Downloading https://services.boco.solutions/cpp_filenetclient/ContentDisplay.aspx?DocId={79948606-0E8A-40DB-A37B-FE176360A9E1}\n",
      "Downloading https://services.boco.solutions/cpp_filenetclient/ContentDisplay.aspx?DocId={45D945AA-2436-4BE7-B5D0-96D9604F0168}\n",
      "Downloading https://services.boco.solutions/cpp_filenetclient/ContentDisplay.aspx?DocId={D03E7487-FAB2-4D03-82CE-C63B8F1A37B6}\n",
      "Downloading https://services.boco.solutions/cpp_filenetclient/ContentDisplay.aspx?DocId={0F69B1BC-4781-4871-8C1E-68E8C3A267EE}\n",
      "Downloading https://services.boco.solutions/cpp_filenetclient/ContentDisplay.aspx?DocId={D9BC7038-7934-484F-961D-3F8598F2202E}\n",
      "Downloading https://services.boco.solutions/cpp_filenetclient/ContentDisplay.aspx?DocId={CF69ED23-72CE-4D0B-B776-67BC0A2F400D}\n",
      "Downloading https://services.boco.solutions/cpp_filenetclient/ContentDisplay.aspx?DocId={1B237FF3-A38C-43CF-8287-99D5433444AA}\n",
      "Downloading https://services.boco.solutions/cpp_filenetclient/ContentDisplay.aspx?DocId={FC425996-5526-4188-8A1E-8604FFE41226}\n",
      "Downloading https://services.boco.solutions/cpp_filenetclient/ContentDisplay.aspx?DocId={86658D37-B7F8-41FE-BC34-18208D146840}\n",
      "Downloading https://services.boco.solutions/cpp_filenetclient/ContentDisplay.aspx?DocId={CFF0DF8B-093D-4B5C-A8B9-0BC2F7B0F75A}\n",
      "Downloading https://services.boco.solutions/cpp_filenetclient/ContentDisplay.aspx?DocId={EC6D3A8B-15E2-4E61-AD0B-FE79ACC3CF7C}\n",
      "Downloading https://services.boco.solutions/cpp_filenetclient/ContentDisplay.aspx?DocId={D28D8466-2A2F-44A1-B9CE-9955A041EB1D}\n",
      "Downloading https://services.boco.solutions/cpp_filenetclient/ContentDisplay.aspx?DocId={20AFD681-CBBC-4175-BBF8-D1A242C42360}\n",
      "Downloading https://services.boco.solutions/cpp_filenetclient/ContentDisplay.aspx?DocId={9D969CBD-E257-483C-8678-CA831BCBAF0C}\n",
      "Downloading https://services.boco.solutions/cpp_filenetclient/ContentDisplay.aspx?DocId={53302C9A-A169-4923-9651-C41C0D7C2658}\n",
      "Downloading https://services.boco.solutions/cpp_filenetclient/ContentDisplay.aspx?DocId={E3D93532-D388-46F0-A635-766BFE04161A}\n",
      "Downloading https://services.boco.solutions/cpp_filenetclient/ContentDisplay.aspx?DocId={D9777C6D-102E-4B81-BE80-F474CA33B45C}\n",
      "Downloading https://services.boco.solutions/cpp_filenetclient/ContentDisplay.aspx?DocId={C9B8CF5A-9DA1-406C-80A7-99A1A4B5D30A}\n",
      "Downloading https://services.boco.solutions/cpp_filenetclient/ContentDisplay.aspx?DocId={62E9A0B4-9492-4245-A0B2-D4C4DAF0C152}\n",
      "Downloading https://services.boco.solutions/cpp_filenetclient/ContentDisplay.aspx?DocId={11BC2A8D-38DF-46D0-8162-BD4351D2A777}\n",
      "Downloading https://services.boco.solutions/cpp_filenetclient/ContentDisplay.aspx?DocId={C5C14436-0E44-486D-B4F0-D85D8816EBF0}\n",
      "Downloading https://services.boco.solutions/cpp_filenetclient/ContentDisplay.aspx?DocId={D193BB61-181C-4317-B716-CE907ECB709A}\n",
      "Downloading https://services.boco.solutions/cpp_filenetclient/ContentDisplay.aspx?DocId={F90B7351-6900-4086-BFA8-5EBE49422CD1}\n",
      "Downloading https://services.boco.solutions/cpp_filenetclient/ContentDisplay.aspx?DocId={E9A99A65-388B-44A3-8CBF-F96C1DDE810F}\n",
      "Downloading https://services.boco.solutions/cpp_filenetclient/ContentDisplay.aspx?DocId={F50683D4-6CF0-449B-BFC5-33420F8FF2E8}\n",
      "Downloading https://services.boco.solutions/cpp_filenetclient/ContentDisplay.aspx?DocId={75AE13F9-4B56-4F39-9776-8243E7BE54BA}\n",
      "Downloading https://services.boco.solutions/cpp_filenetclient/ContentDisplay.aspx?DocId={A7DAF0BB-0CFF-4DB3-B829-87D6B29BE1F7}\n",
      "Downloading https://services.boco.solutions/cpp_filenetclient/ContentDisplay.aspx?DocId={018F671B-E86A-4D89-8CCF-D5D7C7B89C5D}\n",
      "Downloading https://services.boco.solutions/cpp_filenetclient/ContentDisplay.aspx?DocId={03567C69-34E3-4B63-8D40-920D23867C20}\n",
      "Downloading https://services.boco.solutions/cpp_filenetclient/ContentDisplay.aspx?DocId={5F69E9A9-673C-4EB3-9E70-92621E5C798B}\n",
      "Downloading https://services.boco.solutions/cpp_filenetclient/ContentDisplay.aspx?DocId={45AC2054-C5AB-4C78-8E05-E2982494E35D}\n",
      "Downloading https://services.boco.solutions/cpp_filenetclient/ContentDisplay.aspx?DocId={6BDEC3D3-978B-4F57-A977-F4CD6BEF39B1}\n",
      "Downloading https://services.boco.solutions/cpp_filenetclient/ContentDisplay.aspx?DocId={40BF6068-A553-4096-AC24-5F9FB361598D}\n",
      "Downloading https://services.boco.solutions/cpp_filenetclient/ContentDisplay.aspx?DocId={893F31D1-BC71-4256-8443-E2D1F44BD8C4}\n",
      "Downloading https://services.boco.solutions/cpp_filenetclient/ContentDisplay.aspx?DocId={FBD135F7-ECF6-4E93-8993-A9023B16AB90}\n",
      "Downloading https://services.boco.solutions/cpp_filenetclient/ContentDisplay.aspx?DocId={40539690-B611-4219-9C77-CE4F7869E030}\n",
      "Downloading https://services.boco.solutions/cpp_filenetclient/ContentDisplay.aspx?DocId={AF0E37D6-0493-49AD-AAED-8179F76C219B}\n",
      "Downloading https://services.boco.solutions/cpp_filenetclient/ContentDisplay.aspx?DocId={E70C3A40-7721-47A3-AE95-153C019CC03C}\n",
      "Downloading https://services.boco.solutions/cpp_filenetclient/ContentDisplay.aspx?DocId={E5C58727-28EA-4C4A-93F6-490833588CEB}\n",
      "Downloading https://services.boco.solutions/cpp_filenetclient/ContentDisplay.aspx?DocId={53C3BA84-B8F0-415A-B79E-52F04D7B4A32}\n",
      "Downloading https://services.boco.solutions/cpp_filenetclient/ContentDisplay.aspx?DocId={18769DD7-7777-44A4-9595-54E955FA25C1}\n",
      "Downloading https://services.boco.solutions/cpp_filenetclient/ContentDisplay.aspx?DocId={EC3FC6FE-0E4F-4832-8D41-8079E41827FD}\n",
      "Downloading https://services.boco.solutions/cpp_filenetclient/ContentDisplay.aspx?DocId={5211EEBF-D07B-4F3E-B07C-16A05B94DDD2}\n",
      "Downloading https://services.boco.solutions/cpp_filenetclient/ContentDisplay.aspx?DocId={5ED37DC5-3C65-484F-9665-CB85FCD2F41C}\n",
      "Downloading https://services.boco.solutions/cpp_filenetclient/ContentDisplay.aspx?DocId={1978C6D4-3AE7-442D-8A61-433ED21EE57C}\n",
      "Downloading https://services.boco.solutions/cpp_filenetclient/ContentDisplay.aspx?DocId={CEBF6914-8B3B-4A8B-97D2-6701B52CF13D}\n",
      "Downloading https://services.boco.solutions/cpp_filenetclient/ContentDisplay.aspx?DocId={54CFC49D-E86D-48CF-997F-2BEA5CE11C09}\n",
      "Downloading https://services.boco.solutions/cpp_filenetclient/ContentDisplay.aspx?DocId={59C4D1BA-6F41-49D5-B7ED-2DCCD76795A5}\n",
      "Downloading https://services.boco.solutions/cpp_filenetclient/ContentDisplay.aspx?DocId={5282AF3F-5E8D-4028-9686-107E41B36AA3}\n",
      "Downloading https://services.boco.solutions/cpp_filenetclient/ContentDisplay.aspx?DocId={27776F08-48C1-4B24-BB0D-9F623DE34C4A}\n",
      "Downloading https://services.boco.solutions/cpp_filenetclient/ContentDisplay.aspx?DocId={321D5B26-28F4-49E6-9B12-98A2B7E7C0DB}\n",
      "Downloading https://services.boco.solutions/cpp_filenetclient/ContentDisplay.aspx?DocId={3C1C48FD-D0B2-43BF-96E5-B8955ACC3947}\n",
      "Downloading https://services.boco.solutions/cpp_filenetclient/ContentDisplay.aspx?DocId={AB977E60-DABE-4AE3-AEEA-2B92C8E15C81}\n",
      "Downloading https://services.boco.solutions/cpp_filenetclient/ContentDisplay.aspx?DocId={C42E6455-BC63-459B-A1E3-83CD94430BBD}\n",
      "Downloading https://services.boco.solutions/cpp_filenetclient/ContentDisplay.aspx?DocId={615F0F7B-C820-4629-9B69-6670A00FA99E}\n",
      "Downloading https://services.boco.solutions/cpp_filenetclient/ContentDisplay.aspx?DocId={B5A8C705-179D-4E0B-9596-F599425398BC}\n",
      "Downloading https://services.boco.solutions/cpp_filenetclient/ContentDisplay.aspx?DocId={AA7DB9D8-C93B-4DD4-B9AE-FD45705EAECA}\n",
      "Downloading https://services.boco.solutions/cpp_filenetclient/ContentDisplay.aspx?DocId={D15C40DF-C118-4571-8B8A-C137A0CC4763}\n",
      "Downloading https://services.boco.solutions/cpp_filenetclient/ContentDisplay.aspx?DocId={8A45493D-1A67-4944-B3F5-E4276AAE8379}\n",
      "Downloading https://services.boco.solutions/cpp_filenetclient/ContentDisplay.aspx?DocId={5E205D44-7E77-4627-9FD3-F0B1A975AE4A}\n",
      "Downloading https://services.boco.solutions/cpp_filenetclient/ContentDisplay.aspx?DocId={A976DDD5-0EB6-41B2-89AE-D4D852EF30D6}\n",
      "Downloading https://services.boco.solutions/cpp_filenetclient/ContentDisplay.aspx?DocId={014A54CE-4A07-455D-A78B-BA740BA18481}\n",
      "Downloading https://services.boco.solutions/cpp_filenetclient/ContentDisplay.aspx?DocId={5233D95A-0D04-45EC-9BA5-E6EB78B93DCF}\n",
      "Downloading https://services.boco.solutions/cpp_filenetclient/ContentDisplay.aspx?DocId={3FBDECE4-3918-4637-AF9F-E791C328FBE8}\n",
      "Downloading https://services.boco.solutions/cpp_filenetclient/ContentDisplay.aspx?DocId={0401F227-966E-4E51-AE67-58B0E1E929D0}\n",
      "Downloading https://services.boco.solutions/cpp_filenetclient/ContentDisplay.aspx?DocId={2B8523C2-FD01-40C8-B62A-56D3A6FFBC7A}\n",
      "Downloading https://services.boco.solutions/cpp_filenetclient/ContentDisplay.aspx?DocId={46637D28-95BC-481D-8130-BE16553060B1}\n",
      "Downloading https://services.boco.solutions/cpp_filenetclient/ContentDisplay.aspx?DocId={396FA148-4125-40C7-B6BC-D0F98907C7E4}\n",
      "Downloading https://services.boco.solutions/cpp_filenetclient/ContentDisplay.aspx?DocId={0209DE4B-8F27-4D80-BD67-B46BDFE67ACF}\n",
      "Downloading https://services.boco.solutions/cpp_filenetclient/ContentDisplay.aspx?DocId={5011BC5D-6BAA-4D00-9BF9-32F30F0F7A0E}\n",
      "Downloading https://services.boco.solutions/cpp_filenetclient/ContentDisplay.aspx?DocId={6057335E-5A26-402A-84B6-6258CFE6C17D}\n",
      "Downloading https://services.boco.solutions/cpp_filenetclient/ContentDisplay.aspx?DocId={5AB0A548-BE67-43C4-80BB-F071CE247B50}\n",
      "Downloading https://services.boco.solutions/cpp_filenetclient/ContentDisplay.aspx?DocId={1A7CD251-9DCF-4C6E-9614-B46515C10ED9}\n",
      "Downloading https://services.boco.solutions/cpp_filenetclient/ContentDisplay.aspx?DocId={EBCA54E1-F611-4B77-822C-E35001317A81}\n",
      "Downloading https://services.boco.solutions/cpp_filenetclient/ContentDisplay.aspx?DocId={303B4DA3-482E-465B-B6D7-517E67B8B5F7}\n",
      "Downloading https://services.boco.solutions/cpp_filenetclient/ContentDisplay.aspx?DocId={42AD869C-DC9E-45C7-B616-C2DCB94D81EB}\n",
      "Downloading https://services.boco.solutions/cpp_filenetclient/ContentDisplay.aspx?DocId={50C27453-586F-430A-8E97-67B90F211D09}\n",
      "Downloading https://services.boco.solutions/cpp_filenetclient/ContentDisplay.aspx?DocId={AE515E9D-04BA-41DA-BF58-E00F45F09D88}\n",
      "Downloading https://services.boco.solutions/cpp_filenetclient/ContentDisplay.aspx?DocId={C6C92EE8-B283-41D9-876E-0F7A84EFB242}\n",
      "Downloading https://services.boco.solutions/cpp_filenetclient/ContentDisplay.aspx?DocId={40A1F5DA-AFB5-4132-ABCA-AFC7735FA683}\n",
      "Downloading https://services.boco.solutions/cpp_filenetclient/ContentDisplay.aspx?DocId={9C533039-28B8-416E-9F97-646E58A5D439}\n",
      "Downloading https://services.boco.solutions/cpp_filenetclient/ContentDisplay.aspx?DocId={05B11FB3-8829-43FE-97D0-053383433588}\n",
      "Downloading https://services.boco.solutions/cpp_filenetclient/ContentDisplay.aspx?DocId={79575C51-35FA-42B2-B7AA-8EC6BAB07FA0}\n",
      "Downloading https://services.boco.solutions/cpp_filenetclient/ContentDisplay.aspx?DocId={5FBC97D0-3DF4-4C1C-86A2-5379E479E356}\n",
      "Downloading https://services.boco.solutions/cpp_filenetclient/ContentDisplay.aspx?DocId={E05F0810-86E1-45BB-9742-38DC4E693D67}\n"
     ]
    }
   ],
   "source": [
    "from urllib.request import urlretrieve\n",
    "import requests\n",
    "from bs4 import BeautifulSoup\n",
    "import re\n",
    "\n",
    "# Generating URLs of Hosting Pages\n",
    "hostpage_urls_p1 = ['https://services.boco.solutions/cpp_filenetclient/doclist?searchValue=HIST-MAP-000'+str(i) for i in range(1, 10)]\n",
    "hostpage_urls_p2 = ['https://services.boco.solutions/cpp_filenetclient/doclist?searchValue=HIST-MAP-00'+str(j) for j in range(10, 100)]\n",
    "hostpage_urls = hostpage_urls_p1 + hostpage_urls_p2\n",
    "\n",
    "# Generating File Names\n",
    "names_p1 = ['map_000'+str(i) for i in range(1, 10)]\n",
    "names_p2 = ['map_00'+str(j) for j in range(10, 100)]\n",
    "names = names_p1 + names_p2\n",
    "for index, name in enumerate(names):\n",
    "    names[index] = name+'.pdf'\n",
    "\n",
    "# Scraping Page\n",
    "download_urls = []\n",
    "for url in hostpage_urls:\n",
    "    page = requests.get(url)\n",
    "    soup = BeautifulSoup(page.content, \"html.parser\")\n",
    "    results=soup.find(id=\"DataGrid1\")\n",
    "\n",
    "    # Extract DocId\n",
    "    match = re.search(r'\\{(.*?)\\}', str(results))\n",
    "    if match:\n",
    "        docid = str(match.group(1))\n",
    "        # Add to list of URLs to download from\n",
    "        download_urls.append('https://services.boco.solutions/cpp_filenetclient/ContentDisplay.aspx?DocId={'+docid+'}')\n",
    "\n",
    "# Download PDFs\n",
    "names_urls = zip(names, download_urls)\n",
    "for name, url in names_urls:\n",
    "    print('Downloading %s' % url)\n",
    "    urlretrieve(url, 'downloads/'+name)"
   ]
  }
 ],
 "metadata": {
  "kernelspec": {
   "display_name": "Python 3",
   "language": "python",
   "name": "python3"
  },
  "language_info": {
   "codemirror_mode": {
    "name": "ipython",
    "version": 3
   },
   "file_extension": ".py",
   "mimetype": "text/x-python",
   "name": "python",
   "nbconvert_exporter": "python",
   "pygments_lexer": "ipython3",
   "version": "3.10.6"
  }
 },
 "nbformat": 4,
 "nbformat_minor": 2
}
