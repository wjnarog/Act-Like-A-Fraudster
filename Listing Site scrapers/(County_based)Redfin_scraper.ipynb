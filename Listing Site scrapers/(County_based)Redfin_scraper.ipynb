{
 "cells": [
  {
   "cell_type": "code",
   "execution_count": 18,
   "metadata": {},
   "outputs": [
    {
     "name": "stdout",
     "output_type": "stream",
     "text": [
      "Requirement already satisfied: selenium in c:\\users\\walker narog\\appdata\\local\\programs\\python\\python311\\lib\\site-packages (4.27.1)Note: you may need to restart the kernel to use updated packages.\n",
      "\n",
      "Requirement already satisfied: beautifulsoup4 in c:\\users\\walker narog\\appdata\\local\\programs\\python\\python311\\lib\\site-packages (4.12.3)\n",
      "Requirement already satisfied: requests in c:\\users\\walker narog\\appdata\\local\\programs\\python\\python311\\lib\\site-packages (2.32.3)\n",
      "Requirement already satisfied: urllib3<3,>=1.26 in c:\\users\\walker narog\\appdata\\local\\programs\\python\\python311\\lib\\site-packages (from urllib3[socks]<3,>=1.26->selenium) (2.3.0)\n",
      "Requirement already satisfied: trio~=0.17 in c:\\users\\walker narog\\appdata\\local\\programs\\python\\python311\\lib\\site-packages (from selenium) (0.28.0)\n",
      "Requirement already satisfied: trio-websocket~=0.9 in c:\\users\\walker narog\\appdata\\local\\programs\\python\\python311\\lib\\site-packages (from selenium) (0.11.1)\n",
      "Requirement already satisfied: certifi>=2021.10.8 in c:\\users\\walker narog\\appdata\\local\\programs\\python\\python311\\lib\\site-packages (from selenium) (2024.12.14)\n",
      "Requirement already satisfied: typing_extensions~=4.9 in c:\\users\\walker narog\\appdata\\roaming\\python\\python311\\site-packages (from selenium) (4.12.2)\n",
      "Requirement already satisfied: websocket-client~=1.8 in c:\\users\\walker narog\\appdata\\local\\programs\\python\\python311\\lib\\site-packages (from selenium) (1.8.0)\n",
      "Requirement already satisfied: soupsieve>1.2 in c:\\users\\walker narog\\appdata\\local\\programs\\python\\python311\\lib\\site-packages (from beautifulsoup4) (2.6)\n",
      "Requirement already satisfied: charset-normalizer<4,>=2 in c:\\users\\walker narog\\appdata\\local\\programs\\python\\python311\\lib\\site-packages (from requests) (3.4.1)\n",
      "Requirement already satisfied: idna<4,>=2.5 in c:\\users\\walker narog\\appdata\\local\\programs\\python\\python311\\lib\\site-packages (from requests) (3.10)\n",
      "Requirement already satisfied: attrs>=23.2.0 in c:\\users\\walker narog\\appdata\\local\\programs\\python\\python311\\lib\\site-packages (from trio~=0.17->selenium) (24.3.0)\n",
      "Requirement already satisfied: sortedcontainers in c:\\users\\walker narog\\appdata\\local\\programs\\python\\python311\\lib\\site-packages (from trio~=0.17->selenium) (2.4.0)\n",
      "Requirement already satisfied: outcome in c:\\users\\walker narog\\appdata\\local\\programs\\python\\python311\\lib\\site-packages (from trio~=0.17->selenium) (1.3.0.post0)\n",
      "Requirement already satisfied: sniffio>=1.3.0 in c:\\users\\walker narog\\appdata\\local\\programs\\python\\python311\\lib\\site-packages (from trio~=0.17->selenium) (1.3.1)\n",
      "Requirement already satisfied: cffi>=1.14 in c:\\users\\walker narog\\appdata\\local\\programs\\python\\python311\\lib\\site-packages (from trio~=0.17->selenium) (1.17.1)\n",
      "Requirement already satisfied: wsproto>=0.14 in c:\\users\\walker narog\\appdata\\local\\programs\\python\\python311\\lib\\site-packages (from trio-websocket~=0.9->selenium) (1.2.0)\n",
      "Requirement already satisfied: pysocks!=1.5.7,<2.0,>=1.5.6 in c:\\users\\walker narog\\appdata\\local\\programs\\python\\python311\\lib\\site-packages (from urllib3[socks]<3,>=1.26->selenium) (1.7.1)\n",
      "Requirement already satisfied: pycparser in c:\\users\\walker narog\\appdata\\local\\programs\\python\\python311\\lib\\site-packages (from cffi>=1.14->trio~=0.17->selenium) (2.22)\n",
      "Requirement already satisfied: h11<1,>=0.9.0 in c:\\users\\walker narog\\appdata\\local\\programs\\python\\python311\\lib\\site-packages (from wsproto>=0.14->trio-websocket~=0.9->selenium) (0.14.0)\n"
     ]
    }
   ],
   "source": [
    "pip install selenium beautifulsoup4 requests"
   ]
  },
  {
   "cell_type": "code",
   "execution_count": 19,
   "metadata": {},
   "outputs": [],
   "source": [
    "from selenium import webdriver \n",
    "from selenium.webdriver.common.by import By\n",
    "from selenium.webdriver.chrome.service import Service\n",
    "from selenium.webdriver.common.keys import Keys\n",
    "from selenium.webdriver.support.ui import WebDriverWait\n",
    "from selenium.webdriver.support import expected_conditions as EC\n",
    "from selenium.webdriver.chrome.options import Options\n",
    "from bs4 import BeautifulSoup\n",
    "import time\n",
    "import re"
   ]
  },
  {
   "cell_type": "code",
   "execution_count": 20,
   "metadata": {},
   "outputs": [],
   "source": [
    "chrome_options = Options()\n",
    "# chrome_options.add_argument(\"--headless\")  # Run headless \n",
    "chrome_options.add_argument(\"--disable-blink-features=AutomationControlled\")  # Prevent bot detection\n",
    "chrome_options.add_argument(\"user-agent=Mozilla/5.0 (Windows NT 10.0; Win64; x64) AppleWebKit/537.36 (KHTML, like Gecko) Chrome/117.0.0.0 Safari/537.36\")\n",
    "\n",
    "driver = webdriver.Chrome(service=Service(), options=chrome_options)\n",
    "driver.get(\"https://www.redfin.com/\")\n",
    "\n",
    "search_term = \"boulder co\"\n",
    "\n",
    "# search_input = driver.find_element(By.ID, \"search-box-input\")\n",
    "search_input = WebDriverWait(driver, 10).until(\n",
    "    EC.element_to_be_clickable((By.ID, \"search-box-input\"))\n",
    ")\n",
    "\n",
    "search_input.send_keys(search_term)\n",
    "\n",
    "search_input.send_keys(Keys.RETURN)\n"
   ]
  },
  {
   "cell_type": "code",
   "execution_count": 21,
   "metadata": {},
   "outputs": [
    {
     "name": "stdout",
     "output_type": "stream",
     "text": [
      "1. 831 Crescent Dr, Boulder, CO 80303\n",
      "2. 3000 Dartmouth Ave, Boulder, CO 80305\n",
      "3. 5124 Williams Fork Trl #110, Boulder, CO 80301\n",
      "4. 1655 Walnut St #309, Boulder, CO 80302\n",
      "5. 8393 Stoneridge Ter, Boulder, CO 80302\n",
      "6. 836 Walnut St Unit E, Boulder, CO 80302\n",
      "7. 6903 Valmont Rd, Boulder, CO 80301\n",
      "8. 3401 Arapahoe Ave #102, Boulder, CO 80303\n",
      "9. 3401 Arapahoe Ave #105, Boulder, CO 80303\n",
      "10. 7332 Island Cir, Boulder, CO 80301\n",
      "11. 3025 Broadway St #2, Boulder, CO 80304\n",
      "12. 624 Maxwell Ave, Boulder, CO 80304\n",
      "13. 5908 Gunbarrel Ave Unit A, Boulder, CO 80301\n",
      "14. 3360 Broadway St, Boulder, CO 80113\n",
      "15. 710 Linden Park Dr, Boulder, CO 80304\n",
      "16. 1170 Monroe Dr Unit C, Boulder, CO 80303\n",
      "17. 877 Lincoln Pl, Boulder, CO 80302\n",
      "18. 1743 Hawthorn Pl, Boulder, CO 80304\n",
      "19. 7329 Windsor Dr, Boulder, CO 80301\n",
      "20. 727 Pine St, Boulder, CO 80302\n",
      "21. 1319 County Road 83, Boulder, CO 80302\n",
      "22. 2471 Walnut St, Boulder, CO 80302\n",
      "23. 781 Cold Springs Rd, Nederland, CO 80466\n",
      "24. 4137 Clifton Ct, Boulder, CO 80301\n",
      "25. 5922 Gunbarrel Ave Unit E, Boulder, CO 80301\n",
      "26. 2725 Juniper Ave #78, Boulder, CO 80304\n",
      "27. 4856 10th St, Boulder, CO 80304\n",
      "28. 6916 Hunter Pl, Boulder, CO 80301\n",
      "29. 1860 Walnut St #4, Boulder, CO 80302\n",
      "30. 3621 21st St, Boulder, CO 80304\n",
      "31. 4137 Clifton Ct Unit C, Boulder, CO 80301\n",
      "32. 200 Fox Dr, Boulder, CO 80303\n",
      "33. 1095 Quince Ave, Boulder, CO 80304\n",
      "34. 2315 Bluff St Unit A, Boulder, CO 80304\n",
      "35. 2212 Juniper Ct, Boulder, CO 80304\n",
      "36. 2125 Vine Ave, Boulder, CO 80304\n",
      "37. 550 College Ave, Boulder, CO 80302\n",
      "38. 3560 16th St, Boulder, CO 80304\n",
      "39. 1382 Glen Ct, Boulder, CO 80305\n",
      "40. 2707 Valmont Rd Unit 307D, Boulder, CO 80304\n"
     ]
    }
   ],
   "source": [
    "WebDriverWait(driver, 10).until(\n",
    "        EC.presence_of_element_located((By.CLASS_NAME, \"bp-Homecard__Address\"))\n",
    "    )\n",
    "\n",
    "address_elements = driver.find_elements(By.CLASS_NAME, \"bp-Homecard__Address\")\n",
    "\n",
    "addresses = []\n",
    "\n",
    "for address in address_elements:\n",
    "    address_text = address.text.strip()\n",
    "    addresses.append(address_text)\n",
    "\n",
    "for index, address in enumerate(addresses, start=1):\n",
    "    print(f\"{index}. {address}\")"
   ]
  }
 ],
 "metadata": {
  "kernelspec": {
   "display_name": "Python 3",
   "language": "python",
   "name": "python3"
  },
  "language_info": {
   "codemirror_mode": {
    "name": "ipython",
    "version": 3
   },
   "file_extension": ".py",
   "mimetype": "text/x-python",
   "name": "python",
   "nbconvert_exporter": "python",
   "pygments_lexer": "ipython3",
   "version": "3.11.4"
  }
 },
 "nbformat": 4,
 "nbformat_minor": 2
}
