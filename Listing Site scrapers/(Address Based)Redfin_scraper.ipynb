{
 "cells": [
  {
   "cell_type": "code",
   "execution_count": 12,
   "metadata": {},
   "outputs": [
    {
     "name": "stdout",
     "output_type": "stream",
     "text": [
      "Defaulting to user installation because normal site-packages is not writeable\n",
      "Requirement already satisfied: selenium in c:\\users\\wjnar\\appdata\\local\\packages\\pythonsoftwarefoundation.python.3.12_qbz5n2kfra8p0\\localcache\\local-packages\\python312\\site-packages (4.26.1)\n",
      "Requirement already satisfied: beautifulsoup4 in c:\\users\\wjnar\\appdata\\local\\packages\\pythonsoftwarefoundation.python.3.12_qbz5n2kfra8p0\\localcache\\local-packages\\python312\\site-packages (4.12.3)\n",
      "Requirement already satisfied: requests in c:\\users\\wjnar\\appdata\\local\\packages\\pythonsoftwarefoundation.python.3.12_qbz5n2kfra8p0\\localcache\\local-packages\\python312\\site-packages (2.32.3)\n",
      "Requirement already satisfied: urllib3<3,>=1.26 in c:\\users\\wjnar\\appdata\\local\\packages\\pythonsoftwarefoundation.python.3.12_qbz5n2kfra8p0\\localcache\\local-packages\\python312\\site-packages (from urllib3[socks]<3,>=1.26->selenium) (2.2.3)\n",
      "Requirement already satisfied: trio~=0.17 in c:\\users\\wjnar\\appdata\\local\\packages\\pythonsoftwarefoundation.python.3.12_qbz5n2kfra8p0\\localcache\\local-packages\\python312\\site-packages (from selenium) (0.27.0)\n",
      "Requirement already satisfied: trio-websocket~=0.9 in c:\\users\\wjnar\\appdata\\local\\packages\\pythonsoftwarefoundation.python.3.12_qbz5n2kfra8p0\\localcache\\local-packages\\python312\\site-packages (from selenium) (0.11.1)\n",
      "Requirement already satisfied: certifi>=2021.10.8 in c:\\users\\wjnar\\appdata\\local\\packages\\pythonsoftwarefoundation.python.3.12_qbz5n2kfra8p0\\localcache\\local-packages\\python312\\site-packages (from selenium) (2024.8.30)\n",
      "Requirement already satisfied: typing_extensions~=4.9 in c:\\users\\wjnar\\appdata\\local\\packages\\pythonsoftwarefoundation.python.3.12_qbz5n2kfra8p0\\localcache\\local-packages\\python312\\site-packages (from selenium) (4.12.2)\n",
      "Requirement already satisfied: websocket-client~=1.8 in c:\\users\\wjnar\\appdata\\local\\packages\\pythonsoftwarefoundation.python.3.12_qbz5n2kfra8p0\\localcache\\local-packages\\python312\\site-packages (from selenium) (1.8.0)\n",
      "Requirement already satisfied: soupsieve>1.2 in c:\\users\\wjnar\\appdata\\local\\packages\\pythonsoftwarefoundation.python.3.12_qbz5n2kfra8p0\\localcache\\local-packages\\python312\\site-packages (from beautifulsoup4) (2.6)\n",
      "Requirement already satisfied: charset-normalizer<4,>=2 in c:\\users\\wjnar\\appdata\\local\\packages\\pythonsoftwarefoundation.python.3.12_qbz5n2kfra8p0\\localcache\\local-packages\\python312\\site-packages (from requests) (3.4.0)\n",
      "Requirement already satisfied: idna<4,>=2.5 in c:\\users\\wjnar\\appdata\\local\\packages\\pythonsoftwarefoundation.python.3.12_qbz5n2kfra8p0\\localcache\\local-packages\\python312\\site-packages (from requests) (3.10)\n",
      "Requirement already satisfied: attrs>=23.2.0 in c:\\users\\wjnar\\appdata\\local\\packages\\pythonsoftwarefoundation.python.3.12_qbz5n2kfra8p0\\localcache\\local-packages\\python312\\site-packages (from trio~=0.17->selenium) (24.2.0)\n",
      "Requirement already satisfied: sortedcontainers in c:\\users\\wjnar\\appdata\\local\\packages\\pythonsoftwarefoundation.python.3.12_qbz5n2kfra8p0\\localcache\\local-packages\\python312\\site-packages (from trio~=0.17->selenium) (2.4.0)\n",
      "Requirement already satisfied: outcome in c:\\users\\wjnar\\appdata\\local\\packages\\pythonsoftwarefoundation.python.3.12_qbz5n2kfra8p0\\localcache\\local-packages\\python312\\site-packages (from trio~=0.17->selenium) (1.3.0.post0)\n",
      "Requirement already satisfied: sniffio>=1.3.0 in c:\\users\\wjnar\\appdata\\local\\packages\\pythonsoftwarefoundation.python.3.12_qbz5n2kfra8p0\\localcache\\local-packages\\python312\\site-packages (from trio~=0.17->selenium) (1.3.1)\n",
      "Requirement already satisfied: cffi>=1.14 in c:\\users\\wjnar\\appdata\\local\\packages\\pythonsoftwarefoundation.python.3.12_qbz5n2kfra8p0\\localcache\\local-packages\\python312\\site-packages (from trio~=0.17->selenium) (1.17.1)\n",
      "Requirement already satisfied: wsproto>=0.14 in c:\\users\\wjnar\\appdata\\local\\packages\\pythonsoftwarefoundation.python.3.12_qbz5n2kfra8p0\\localcache\\local-packages\\python312\\site-packages (from trio-websocket~=0.9->selenium) (1.2.0)\n",
      "Requirement already satisfied: pysocks!=1.5.7,<2.0,>=1.5.6 in c:\\users\\wjnar\\appdata\\local\\packages\\pythonsoftwarefoundation.python.3.12_qbz5n2kfra8p0\\localcache\\local-packages\\python312\\site-packages (from urllib3[socks]<3,>=1.26->selenium) (1.7.1)\n",
      "Requirement already satisfied: pycparser in c:\\users\\wjnar\\appdata\\local\\packages\\pythonsoftwarefoundation.python.3.12_qbz5n2kfra8p0\\localcache\\local-packages\\python312\\site-packages (from cffi>=1.14->trio~=0.17->selenium) (2.22)\n",
      "Requirement already satisfied: h11<1,>=0.9.0 in c:\\users\\wjnar\\appdata\\local\\packages\\pythonsoftwarefoundation.python.3.12_qbz5n2kfra8p0\\localcache\\local-packages\\python312\\site-packages (from wsproto>=0.14->trio-websocket~=0.9->selenium) (0.14.0)\n",
      "Note: you may need to restart the kernel to use updated packages.\n"
     ]
    },
    {
     "name": "stderr",
     "output_type": "stream",
     "text": [
      "\n",
      "[notice] A new release of pip is available: 24.3.1 -> 25.0\n",
      "[notice] To update, run: C:\\Users\\wjnar\\AppData\\Local\\Microsoft\\WindowsApps\\PythonSoftwareFoundation.Python.3.12_qbz5n2kfra8p0\\python.exe -m pip install --upgrade pip\n"
     ]
    }
   ],
   "source": [
    "pip install selenium beautifulsoup4 requests"
   ]
  },
  {
   "cell_type": "code",
   "execution_count": 13,
   "metadata": {},
   "outputs": [],
   "source": [
    "from selenium import webdriver \n",
    "from selenium.webdriver.common.by import By\n",
    "from selenium.webdriver.chrome.service import Service\n",
    "from selenium.webdriver.common.keys import Keys\n",
    "from selenium.webdriver.support.ui import WebDriverWait\n",
    "from selenium.webdriver.support import expected_conditions as EC\n",
    "from selenium.webdriver.chrome.options import Options\n",
    "from bs4 import BeautifulSoup\n",
    "import time\n",
    "import re\n",
    "import requests"
   ]
  },
  {
   "cell_type": "code",
   "execution_count": 14,
   "metadata": {},
   "outputs": [],
   "source": [
    "chrome_options = Options()\n",
    "# chrome_options.add_argument(\"--headless\")  # Run headless \n",
    "chrome_options.add_argument(\"--disable-blink-features=AutomationControlled\")  # Prevent bot detection\n",
    "chrome_options.add_argument(\"user-agent=Mozilla/5.0 (Windows NT 10.0; Win64; x64) AppleWebKit/537.36 (KHTML, like Gecko) Chrome/117.0.0.0 Safari/537.36\")\n",
    "\n",
    "driver = webdriver.Chrome(service=Service(), options=chrome_options)\n",
    "\n",
    "url = \"https://www.redfin.com/\"\n",
    "driver.get(url)\n",
    "\n",
    "search_term = \"831 Crescent Dr, Boulder, CO 80303\"\n",
    "\n",
    "# search_input = driver.find_element(By.ID, \"search-box-input\")\n",
    "search_input = WebDriverWait(driver, 10).until(\n",
    "    EC.element_to_be_clickable((By.ID, \"search-box-input\"))\n",
    ")\n",
    "\n",
    "search_input.send_keys(search_term)\n",
    "\n",
    "search_input.send_keys(Keys.RETURN)"
   ]
  },
  {
   "cell_type": "code",
   "execution_count": 15,
   "metadata": {},
   "outputs": [],
   "source": [
    "property_details = {}\n",
    "\n",
    "WebDriverWait(driver, 10).until(\n",
    "    EC.presence_of_element_located((By.CLASS_NAME, \"AgentInfoCard\"))\n",
    ")\n",
    "\n",
    "\n",
    "agent_name = driver.find_element(By.CLASS_NAME, \"agent-basic-details--heading\").text.strip()\n",
    "property_details[\"Agent Name\"] = agent_name\n",
    "\n",
    "brokerage_name = driver.find_element(By.CLASS_NAME, \"agent-basic-details--broker\").text\n",
    "property_details[\"Brokerage Name\"] = brokerage_name\n"
   ]
  },
  {
   "cell_type": "code",
   "execution_count": 16,
   "metadata": {},
   "outputs": [],
   "source": [
    "contact_section = WebDriverWait(driver, 10).until(\n",
    "    EC.presence_of_element_located((By.CLASS_NAME, \"listingContactSection\"))\n",
    ")\n",
    "\n",
    "# Contact info can range from email, phone, both, etc. its going to be hard to standardize\n",
    "# Maybe use regex to use it in the future\n",
    "contact_info = contact_section.text.replace(\"Contact: \", \"\").strip()\n",
    "property_details[\"Agent Contact Info\"] = contact_info"
   ]
  },
  {
   "cell_type": "code",
   "execution_count": 17,
   "metadata": {},
   "outputs": [],
   "source": [
    "WebDriverWait(driver, 10).until(\n",
    "    EC.presence_of_element_located((By.CLASS_NAME, \"ExpandableAmenitiesInfoRow\"))\n",
    ")\n",
    "sections = driver.find_elements(By.CLASS_NAME, \"ExpandableAmenitiesInfoRow\")\n",
    "\n",
    "soup = BeautifulSoup(driver.page_source, \"html.parser\")\n",
    "\n",
    "amenity_groups = soup.find_all(\"div\", class_=\"amenity-group\") \n",
    "for group in amenity_groups:\n",
    "    \n",
    "    section_title_element = group.find(\"div\", class_=\"propertyDetailsHeader\")\n",
    "    section_title = section_title_element.get_text(strip=True) if section_title_element else \"Unknown\"\n",
    "\n",
    "    details = group.find_all(\"li\", class_=\"entryItem\")\n",
    "    # print(f\"Found {len(details)} details in section '{section_title}'\")\n",
    "\n",
    "    for detail in details:\n",
    "        label_element = detail.find(\"span\", class_=\"entryItemContent\")\n",
    "\n",
    "        if label_element:\n",
    "            # print(f\"Label Element Found: {label_element.text}\")  # Debugging\n",
    "            label = label_element.text.split(\":\")[0]\n",
    "            \n",
    "            spans = label_element.find_all(\"span\")\n",
    "            # print(f\"Found {len(spans)} spans in label\")  # Debugging\n",
    "\n",
    "            if len(spans) > 0:\n",
    "                detail_value = spans[-1].get_text(strip=True)  # Last span is the value\n",
    "                property_details[label] = detail_value\n",
    "            else:\n",
    "                print(f\"Skipping detail (Not enough spans): {label_element.text}\")\n",
    "\n",
    "        else:\n",
    "            print(\"Skipping detail (Label element not found)\")"
   ]
  },
  {
   "cell_type": "code",
   "execution_count": 18,
   "metadata": {},
   "outputs": [
    {
     "name": "stdout",
     "output_type": "stream",
     "text": [
      "Agent Name: Lex Campaldini\n",
      "Brokerage Name: Redfin Corporation\n",
      "Agent Contact Info: Lex.Campaldini@redfin.com,720-448-8539\n",
      "Parking Total: 5\n",
      "Off Street Spaces: 2\n",
      "Garage Spaces: 3\n",
      "AttachedGarageYN: Yes\n",
      "Parking Features: Concrete, Exterior Access Door, Heated Garage, Insulated Garage, Oversized, Storage\n",
      "Bedrooms Total: 3\n",
      "Upper Level Bedrooms: 1\n",
      "Main Level Bedrooms: 2\n",
      "Bathrooms Total Integer: 3\n",
      "Bathrooms Full: 2\n",
      "Bathrooms Half: 1\n",
      "Upper Level Bathrooms: 1\n",
      "Main Level Bathrooms: 2\n",
      "Level: Upper\n",
      "Description: Tile flooring, five-piece ensuite\n",
      "Interior Features: Built-in Features,Five Piece Bath,Laminate Counters,Open Floorplan,Pantry,Primary Suite,Quartz Counters,Smoke Free,Utility Sink,Vaulted Ceiling(s),Walk-In Closet(s)\n",
      "Appliances: Cooktop, Dishwasher, Disposal, Dryer, Microwave, Oven, Refrigerator, Sump Pump, Washer\n",
      "Flooring: Carpet, Tile, Wood\n",
      "Furnished: Unfurnished\n",
      "Basement: Crawl Space\n",
      "Fireplaces Total: 1\n",
      "Fireplace Features: Living Room\n",
      "Building Area Total: 2,597\n",
      "Building Area Source: Public Records\n",
      "Structure Type: House\n",
      "Construction Materials: Cement Siding, Frame, Steel, Stucco\n",
      "Exterior Features: Balcony, Dog Run, Fire Pit, Garden, Private Yard, Rain Gutters, Smart Irrigation\n",
      "Patio And Porch Features: Covered, Front Porch, Patio\n",
      "Fencing: Partial\n",
      "Roof: Composition\n",
      "Property Type: Residential\n",
      "Property Sub Type: Single Family Residence\n",
      "Property Condition: Updated/Remodeled\n",
      "Living Area: 2,597\n",
      "Above Grade Finished Area: 2,597\n",
      "Levels: Two\n",
      "Green Energy Efficient: Construction, HVAC, Insulation, Windows\n",
      "Ownership: Individual\n",
      "Security Features: Carbon Monoxide Detector(s)\n",
      "Lot Size Square Feet: 14,146\n",
      "Lot Size Acres: 0.32\n",
      "Lot Features: Corner Lot, Landscaped, Near Public Transit, Sprinklers In Front, Sprinklers In Rear\n",
      "Water Source: Public, Well\n",
      "Tax Annual Amount: $8,738\n",
      "Tax Year: 2023\n",
      "Parcel Number: R0037762\n",
      "Utilities: Cable Available, Electricity Connected, Internet Access (Wired), Natural Gas Connected, Phone Available\n",
      "Sewer: Public Sewer\n",
      "Cooling: Air Conditioning-Room, Attic Fan\n",
      "Heating: Baseboard, Electric, Heat Pump, Hot Water, Natural Gas\n",
      "Pets Allowed: Yes\n",
      "Elementary School: Eisenhower\n",
      "Elementary School District: Boulder Valley RE 2\n",
      "Middle Or Junior School: Manhattan\n",
      "Middle Or Junior School District: Boulder Valley RE 2\n",
      "High School: Fairview\n",
      "High School District: Boulder Valley RE 2\n",
      "Beds: 3\n",
      "Baths: 2.5\n",
      "Finished Sq. Ft.: 2,597\n",
      "Unfinished Sq. Ft.: —\n",
      "Total Sq. Ft.: 2,597\n",
      "Stories: —\n",
      "Lot Size: 0.32 acres\n",
      "Style: Single Family Residential\n",
      "Year Built: 1957\n",
      "Year Renovated: 1995\n",
      "County: Boulder County\n",
      "APN: R0037762\n"
     ]
    },
    {
     "ename": "",
     "evalue": "",
     "output_type": "error",
     "traceback": [
      "\u001b[1;31mThe Kernel crashed while executing code in the current cell or a previous cell. \n",
      "\u001b[1;31mPlease review the code in the cell(s) to identify a possible cause of the failure. \n",
      "\u001b[1;31mClick <a href='https://aka.ms/vscodeJupyterKernelCrash'>here</a> for more info. \n",
      "\u001b[1;31mView Jupyter <a href='command:jupyter.viewOutput'>log</a> for further details."
     ]
    }
   ],
   "source": [
    "for key, value in property_details.items():\n",
    "        if key != value:\n",
    "                print(f\"{key}: {value}\")"
   ]
  }
 ],
 "metadata": {
  "kernelspec": {
   "display_name": "Python 3",
   "language": "python",
   "name": "python3"
  },
  "language_info": {
   "codemirror_mode": {
    "name": "ipython",
    "version": 3
   },
   "file_extension": ".py",
   "mimetype": "text/x-python",
   "name": "python",
   "nbconvert_exporter": "python",
   "pygments_lexer": "ipython3",
   "version": "3.12.9"
  }
 },
 "nbformat": 4,
 "nbformat_minor": 2
}
